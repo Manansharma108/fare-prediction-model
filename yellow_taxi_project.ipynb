{
 "cells": [
  {
   "cell_type": "code",
   "execution_count": 1,
   "id": "3d4e2d6a",
   "metadata": {},
   "outputs": [],
   "source": [
    "import os\n",
    "import pandas as pd\n",
    "import numpy as np\n",
    "import matplotlib.pyplot as plt\n",
    "import seaborn as sns\n",
    "from sklearn.linear_model import LinearRegression\n",
    "from sklearn.model_selection import train_test_split\n",
    "from sklearn import metrics"
   ]
  },
  {
   "cell_type": "code",
   "execution_count": 2,
   "id": "9a662dee",
   "metadata": {},
   "outputs": [],
   "source": [
    "df=pd.read_parquet(r\"C:\\Users\\DELL 5502\\OneDrive\\Desktop\\imarticus\\yellow_tripdata_2023-11.parquet\")"
   ]
  },
  {
   "cell_type": "code",
   "execution_count": 3,
   "id": "37f8fe6d",
   "metadata": {},
   "outputs": [
    {
     "data": {
      "text/html": [
       "<div>\n",
       "<style scoped>\n",
       "    .dataframe tbody tr th:only-of-type {\n",
       "        vertical-align: middle;\n",
       "    }\n",
       "\n",
       "    .dataframe tbody tr th {\n",
       "        vertical-align: top;\n",
       "    }\n",
       "\n",
       "    .dataframe thead th {\n",
       "        text-align: right;\n",
       "    }\n",
       "</style>\n",
       "<table border=\"1\" class=\"dataframe\">\n",
       "  <thead>\n",
       "    <tr style=\"text-align: right;\">\n",
       "      <th></th>\n",
       "      <th>VendorID</th>\n",
       "      <th>tpep_pickup_datetime</th>\n",
       "      <th>tpep_dropoff_datetime</th>\n",
       "      <th>passenger_count</th>\n",
       "      <th>trip_distance</th>\n",
       "      <th>RatecodeID</th>\n",
       "      <th>store_and_fwd_flag</th>\n",
       "      <th>PULocationID</th>\n",
       "      <th>DOLocationID</th>\n",
       "      <th>payment_type</th>\n",
       "      <th>fare_amount</th>\n",
       "      <th>extra</th>\n",
       "      <th>mta_tax</th>\n",
       "      <th>tip_amount</th>\n",
       "      <th>tolls_amount</th>\n",
       "      <th>improvement_surcharge</th>\n",
       "      <th>total_amount</th>\n",
       "      <th>congestion_surcharge</th>\n",
       "      <th>Airport_fee</th>\n",
       "    </tr>\n",
       "  </thead>\n",
       "  <tbody>\n",
       "    <tr>\n",
       "      <th>0</th>\n",
       "      <td>1</td>\n",
       "      <td>2023-11-01 00:03:03</td>\n",
       "      <td>2023-11-01 01:04:08</td>\n",
       "      <td>2.0</td>\n",
       "      <td>13.60</td>\n",
       "      <td>1.0</td>\n",
       "      <td>N</td>\n",
       "      <td>132</td>\n",
       "      <td>26</td>\n",
       "      <td>2</td>\n",
       "      <td>61.8</td>\n",
       "      <td>2.75</td>\n",
       "      <td>0.5</td>\n",
       "      <td>0.00</td>\n",
       "      <td>0.00</td>\n",
       "      <td>1.0</td>\n",
       "      <td>66.05</td>\n",
       "      <td>0.0</td>\n",
       "      <td>1.75</td>\n",
       "    </tr>\n",
       "    <tr>\n",
       "      <th>1</th>\n",
       "      <td>1</td>\n",
       "      <td>2023-11-01 00:03:28</td>\n",
       "      <td>2023-11-01 00:23:59</td>\n",
       "      <td>0.0</td>\n",
       "      <td>3.50</td>\n",
       "      <td>1.0</td>\n",
       "      <td>N</td>\n",
       "      <td>140</td>\n",
       "      <td>7</td>\n",
       "      <td>1</td>\n",
       "      <td>20.5</td>\n",
       "      <td>3.50</td>\n",
       "      <td>0.5</td>\n",
       "      <td>5.10</td>\n",
       "      <td>0.00</td>\n",
       "      <td>1.0</td>\n",
       "      <td>30.60</td>\n",
       "      <td>2.5</td>\n",
       "      <td>0.00</td>\n",
       "    </tr>\n",
       "    <tr>\n",
       "      <th>2</th>\n",
       "      <td>2</td>\n",
       "      <td>2023-10-31 23:58:05</td>\n",
       "      <td>2023-11-01 00:54:03</td>\n",
       "      <td>4.0</td>\n",
       "      <td>18.61</td>\n",
       "      <td>2.0</td>\n",
       "      <td>N</td>\n",
       "      <td>132</td>\n",
       "      <td>230</td>\n",
       "      <td>1</td>\n",
       "      <td>70.0</td>\n",
       "      <td>0.00</td>\n",
       "      <td>0.5</td>\n",
       "      <td>16.54</td>\n",
       "      <td>6.94</td>\n",
       "      <td>1.0</td>\n",
       "      <td>99.23</td>\n",
       "      <td>2.5</td>\n",
       "      <td>1.75</td>\n",
       "    </tr>\n",
       "    <tr>\n",
       "      <th>3</th>\n",
       "      <td>2</td>\n",
       "      <td>2023-11-01 00:03:50</td>\n",
       "      <td>2023-11-01 00:04:59</td>\n",
       "      <td>1.0</td>\n",
       "      <td>0.39</td>\n",
       "      <td>1.0</td>\n",
       "      <td>N</td>\n",
       "      <td>236</td>\n",
       "      <td>236</td>\n",
       "      <td>1</td>\n",
       "      <td>4.4</td>\n",
       "      <td>1.00</td>\n",
       "      <td>0.5</td>\n",
       "      <td>1.88</td>\n",
       "      <td>0.00</td>\n",
       "      <td>1.0</td>\n",
       "      <td>11.28</td>\n",
       "      <td>2.5</td>\n",
       "      <td>0.00</td>\n",
       "    </tr>\n",
       "    <tr>\n",
       "      <th>4</th>\n",
       "      <td>2</td>\n",
       "      <td>2023-11-01 00:06:30</td>\n",
       "      <td>2023-11-01 00:14:25</td>\n",
       "      <td>1.0</td>\n",
       "      <td>1.20</td>\n",
       "      <td>1.0</td>\n",
       "      <td>N</td>\n",
       "      <td>236</td>\n",
       "      <td>141</td>\n",
       "      <td>1</td>\n",
       "      <td>10.0</td>\n",
       "      <td>1.00</td>\n",
       "      <td>0.5</td>\n",
       "      <td>3.00</td>\n",
       "      <td>0.00</td>\n",
       "      <td>1.0</td>\n",
       "      <td>18.00</td>\n",
       "      <td>2.5</td>\n",
       "      <td>0.00</td>\n",
       "    </tr>\n",
       "    <tr>\n",
       "      <th>5</th>\n",
       "      <td>2</td>\n",
       "      <td>2023-11-01 00:17:18</td>\n",
       "      <td>2023-11-01 00:23:39</td>\n",
       "      <td>3.0</td>\n",
       "      <td>0.60</td>\n",
       "      <td>1.0</td>\n",
       "      <td>N</td>\n",
       "      <td>141</td>\n",
       "      <td>263</td>\n",
       "      <td>1</td>\n",
       "      <td>7.9</td>\n",
       "      <td>1.00</td>\n",
       "      <td>0.5</td>\n",
       "      <td>2.58</td>\n",
       "      <td>0.00</td>\n",
       "      <td>1.0</td>\n",
       "      <td>15.48</td>\n",
       "      <td>2.5</td>\n",
       "      <td>0.00</td>\n",
       "    </tr>\n",
       "    <tr>\n",
       "      <th>6</th>\n",
       "      <td>2</td>\n",
       "      <td>2023-11-01 00:14:49</td>\n",
       "      <td>2023-11-01 00:39:44</td>\n",
       "      <td>1.0</td>\n",
       "      <td>5.44</td>\n",
       "      <td>1.0</td>\n",
       "      <td>N</td>\n",
       "      <td>114</td>\n",
       "      <td>62</td>\n",
       "      <td>2</td>\n",
       "      <td>28.2</td>\n",
       "      <td>1.00</td>\n",
       "      <td>0.5</td>\n",
       "      <td>0.00</td>\n",
       "      <td>0.00</td>\n",
       "      <td>1.0</td>\n",
       "      <td>33.20</td>\n",
       "      <td>2.5</td>\n",
       "      <td>0.00</td>\n",
       "    </tr>\n",
       "    <tr>\n",
       "      <th>7</th>\n",
       "      <td>1</td>\n",
       "      <td>2023-11-01 00:07:29</td>\n",
       "      <td>2023-11-01 00:11:01</td>\n",
       "      <td>2.0</td>\n",
       "      <td>0.90</td>\n",
       "      <td>1.0</td>\n",
       "      <td>N</td>\n",
       "      <td>48</td>\n",
       "      <td>246</td>\n",
       "      <td>1</td>\n",
       "      <td>6.5</td>\n",
       "      <td>3.50</td>\n",
       "      <td>0.5</td>\n",
       "      <td>2.30</td>\n",
       "      <td>0.00</td>\n",
       "      <td>1.0</td>\n",
       "      <td>13.80</td>\n",
       "      <td>2.5</td>\n",
       "      <td>0.00</td>\n",
       "    </tr>\n",
       "    <tr>\n",
       "      <th>8</th>\n",
       "      <td>2</td>\n",
       "      <td>2023-11-01 00:39:20</td>\n",
       "      <td>2023-11-01 01:00:24</td>\n",
       "      <td>1.0</td>\n",
       "      <td>6.20</td>\n",
       "      <td>1.0</td>\n",
       "      <td>N</td>\n",
       "      <td>170</td>\n",
       "      <td>42</td>\n",
       "      <td>1</td>\n",
       "      <td>27.5</td>\n",
       "      <td>1.00</td>\n",
       "      <td>0.5</td>\n",
       "      <td>8.12</td>\n",
       "      <td>0.00</td>\n",
       "      <td>1.0</td>\n",
       "      <td>40.62</td>\n",
       "      <td>2.5</td>\n",
       "      <td>0.00</td>\n",
       "    </tr>\n",
       "    <tr>\n",
       "      <th>9</th>\n",
       "      <td>1</td>\n",
       "      <td>2023-11-01 00:21:12</td>\n",
       "      <td>2023-11-01 00:26:45</td>\n",
       "      <td>2.0</td>\n",
       "      <td>0.40</td>\n",
       "      <td>1.0</td>\n",
       "      <td>N</td>\n",
       "      <td>144</td>\n",
       "      <td>148</td>\n",
       "      <td>2</td>\n",
       "      <td>5.8</td>\n",
       "      <td>3.50</td>\n",
       "      <td>0.5</td>\n",
       "      <td>0.00</td>\n",
       "      <td>0.00</td>\n",
       "      <td>1.0</td>\n",
       "      <td>10.80</td>\n",
       "      <td>2.5</td>\n",
       "      <td>0.00</td>\n",
       "    </tr>\n",
       "    <tr>\n",
       "      <th>10</th>\n",
       "      <td>2</td>\n",
       "      <td>2023-11-01 00:05:14</td>\n",
       "      <td>2023-11-01 00:13:28</td>\n",
       "      <td>1.0</td>\n",
       "      <td>1.14</td>\n",
       "      <td>1.0</td>\n",
       "      <td>N</td>\n",
       "      <td>90</td>\n",
       "      <td>164</td>\n",
       "      <td>1</td>\n",
       "      <td>9.3</td>\n",
       "      <td>1.00</td>\n",
       "      <td>0.5</td>\n",
       "      <td>1.00</td>\n",
       "      <td>0.00</td>\n",
       "      <td>1.0</td>\n",
       "      <td>15.30</td>\n",
       "      <td>2.5</td>\n",
       "      <td>0.00</td>\n",
       "    </tr>\n",
       "    <tr>\n",
       "      <th>11</th>\n",
       "      <td>1</td>\n",
       "      <td>2023-11-01 00:47:33</td>\n",
       "      <td>2023-11-01 01:03:41</td>\n",
       "      <td>4.0</td>\n",
       "      <td>1.90</td>\n",
       "      <td>1.0</td>\n",
       "      <td>N</td>\n",
       "      <td>249</td>\n",
       "      <td>231</td>\n",
       "      <td>1</td>\n",
       "      <td>14.9</td>\n",
       "      <td>3.50</td>\n",
       "      <td>0.5</td>\n",
       "      <td>0.01</td>\n",
       "      <td>0.00</td>\n",
       "      <td>1.0</td>\n",
       "      <td>19.91</td>\n",
       "      <td>2.5</td>\n",
       "      <td>0.00</td>\n",
       "    </tr>\n",
       "    <tr>\n",
       "      <th>12</th>\n",
       "      <td>2</td>\n",
       "      <td>2023-11-01 00:21:14</td>\n",
       "      <td>2023-11-01 00:49:52</td>\n",
       "      <td>1.0</td>\n",
       "      <td>6.88</td>\n",
       "      <td>1.0</td>\n",
       "      <td>N</td>\n",
       "      <td>230</td>\n",
       "      <td>25</td>\n",
       "      <td>1</td>\n",
       "      <td>33.1</td>\n",
       "      <td>1.00</td>\n",
       "      <td>0.5</td>\n",
       "      <td>5.72</td>\n",
       "      <td>0.00</td>\n",
       "      <td>1.0</td>\n",
       "      <td>43.82</td>\n",
       "      <td>2.5</td>\n",
       "      <td>0.00</td>\n",
       "    </tr>\n",
       "    <tr>\n",
       "      <th>13</th>\n",
       "      <td>1</td>\n",
       "      <td>2023-11-01 00:11:22</td>\n",
       "      <td>2023-11-01 00:18:02</td>\n",
       "      <td>1.0</td>\n",
       "      <td>0.80</td>\n",
       "      <td>1.0</td>\n",
       "      <td>N</td>\n",
       "      <td>79</td>\n",
       "      <td>224</td>\n",
       "      <td>3</td>\n",
       "      <td>7.2</td>\n",
       "      <td>3.50</td>\n",
       "      <td>0.5</td>\n",
       "      <td>0.00</td>\n",
       "      <td>0.00</td>\n",
       "      <td>1.0</td>\n",
       "      <td>12.20</td>\n",
       "      <td>2.5</td>\n",
       "      <td>0.00</td>\n",
       "    </tr>\n",
       "    <tr>\n",
       "      <th>14</th>\n",
       "      <td>1</td>\n",
       "      <td>2023-11-01 00:27:33</td>\n",
       "      <td>2023-11-01 00:49:51</td>\n",
       "      <td>1.0</td>\n",
       "      <td>2.90</td>\n",
       "      <td>1.0</td>\n",
       "      <td>N</td>\n",
       "      <td>144</td>\n",
       "      <td>255</td>\n",
       "      <td>1</td>\n",
       "      <td>22.6</td>\n",
       "      <td>3.50</td>\n",
       "      <td>0.5</td>\n",
       "      <td>3.00</td>\n",
       "      <td>0.00</td>\n",
       "      <td>1.0</td>\n",
       "      <td>30.60</td>\n",
       "      <td>2.5</td>\n",
       "      <td>0.00</td>\n",
       "    </tr>\n",
       "    <tr>\n",
       "      <th>15</th>\n",
       "      <td>2</td>\n",
       "      <td>2023-11-01 00:07:30</td>\n",
       "      <td>2023-11-01 00:20:20</td>\n",
       "      <td>2.0</td>\n",
       "      <td>1.93</td>\n",
       "      <td>1.0</td>\n",
       "      <td>N</td>\n",
       "      <td>234</td>\n",
       "      <td>48</td>\n",
       "      <td>1</td>\n",
       "      <td>13.5</td>\n",
       "      <td>1.00</td>\n",
       "      <td>0.5</td>\n",
       "      <td>3.70</td>\n",
       "      <td>0.00</td>\n",
       "      <td>1.0</td>\n",
       "      <td>22.20</td>\n",
       "      <td>2.5</td>\n",
       "      <td>0.00</td>\n",
       "    </tr>\n",
       "    <tr>\n",
       "      <th>16</th>\n",
       "      <td>2</td>\n",
       "      <td>2023-11-01 00:58:08</td>\n",
       "      <td>2023-11-01 01:12:32</td>\n",
       "      <td>1.0</td>\n",
       "      <td>2.39</td>\n",
       "      <td>1.0</td>\n",
       "      <td>N</td>\n",
       "      <td>141</td>\n",
       "      <td>143</td>\n",
       "      <td>2</td>\n",
       "      <td>16.3</td>\n",
       "      <td>1.00</td>\n",
       "      <td>0.5</td>\n",
       "      <td>0.00</td>\n",
       "      <td>0.00</td>\n",
       "      <td>1.0</td>\n",
       "      <td>21.30</td>\n",
       "      <td>2.5</td>\n",
       "      <td>0.00</td>\n",
       "    </tr>\n",
       "    <tr>\n",
       "      <th>17</th>\n",
       "      <td>1</td>\n",
       "      <td>2023-11-01 00:06:23</td>\n",
       "      <td>2023-11-01 00:17:59</td>\n",
       "      <td>2.0</td>\n",
       "      <td>1.80</td>\n",
       "      <td>1.0</td>\n",
       "      <td>N</td>\n",
       "      <td>107</td>\n",
       "      <td>231</td>\n",
       "      <td>1</td>\n",
       "      <td>12.8</td>\n",
       "      <td>3.50</td>\n",
       "      <td>0.5</td>\n",
       "      <td>3.55</td>\n",
       "      <td>0.00</td>\n",
       "      <td>1.0</td>\n",
       "      <td>21.35</td>\n",
       "      <td>2.5</td>\n",
       "      <td>0.00</td>\n",
       "    </tr>\n",
       "    <tr>\n",
       "      <th>18</th>\n",
       "      <td>2</td>\n",
       "      <td>2023-11-01 00:11:23</td>\n",
       "      <td>2023-11-01 00:18:49</td>\n",
       "      <td>1.0</td>\n",
       "      <td>1.77</td>\n",
       "      <td>1.0</td>\n",
       "      <td>N</td>\n",
       "      <td>142</td>\n",
       "      <td>229</td>\n",
       "      <td>1</td>\n",
       "      <td>10.7</td>\n",
       "      <td>1.00</td>\n",
       "      <td>0.5</td>\n",
       "      <td>4.71</td>\n",
       "      <td>0.00</td>\n",
       "      <td>1.0</td>\n",
       "      <td>20.41</td>\n",
       "      <td>2.5</td>\n",
       "      <td>0.00</td>\n",
       "    </tr>\n",
       "    <tr>\n",
       "      <th>19</th>\n",
       "      <td>2</td>\n",
       "      <td>2023-11-01 00:51:27</td>\n",
       "      <td>2023-11-01 00:56:14</td>\n",
       "      <td>1.0</td>\n",
       "      <td>1.00</td>\n",
       "      <td>1.0</td>\n",
       "      <td>N</td>\n",
       "      <td>230</td>\n",
       "      <td>163</td>\n",
       "      <td>1</td>\n",
       "      <td>7.2</td>\n",
       "      <td>1.00</td>\n",
       "      <td>0.5</td>\n",
       "      <td>1.22</td>\n",
       "      <td>0.00</td>\n",
       "      <td>1.0</td>\n",
       "      <td>13.42</td>\n",
       "      <td>2.5</td>\n",
       "      <td>0.00</td>\n",
       "    </tr>\n",
       "  </tbody>\n",
       "</table>\n",
       "</div>"
      ],
      "text/plain": [
       "    VendorID tpep_pickup_datetime tpep_dropoff_datetime  passenger_count  \\\n",
       "0          1  2023-11-01 00:03:03   2023-11-01 01:04:08              2.0   \n",
       "1          1  2023-11-01 00:03:28   2023-11-01 00:23:59              0.0   \n",
       "2          2  2023-10-31 23:58:05   2023-11-01 00:54:03              4.0   \n",
       "3          2  2023-11-01 00:03:50   2023-11-01 00:04:59              1.0   \n",
       "4          2  2023-11-01 00:06:30   2023-11-01 00:14:25              1.0   \n",
       "5          2  2023-11-01 00:17:18   2023-11-01 00:23:39              3.0   \n",
       "6          2  2023-11-01 00:14:49   2023-11-01 00:39:44              1.0   \n",
       "7          1  2023-11-01 00:07:29   2023-11-01 00:11:01              2.0   \n",
       "8          2  2023-11-01 00:39:20   2023-11-01 01:00:24              1.0   \n",
       "9          1  2023-11-01 00:21:12   2023-11-01 00:26:45              2.0   \n",
       "10         2  2023-11-01 00:05:14   2023-11-01 00:13:28              1.0   \n",
       "11         1  2023-11-01 00:47:33   2023-11-01 01:03:41              4.0   \n",
       "12         2  2023-11-01 00:21:14   2023-11-01 00:49:52              1.0   \n",
       "13         1  2023-11-01 00:11:22   2023-11-01 00:18:02              1.0   \n",
       "14         1  2023-11-01 00:27:33   2023-11-01 00:49:51              1.0   \n",
       "15         2  2023-11-01 00:07:30   2023-11-01 00:20:20              2.0   \n",
       "16         2  2023-11-01 00:58:08   2023-11-01 01:12:32              1.0   \n",
       "17         1  2023-11-01 00:06:23   2023-11-01 00:17:59              2.0   \n",
       "18         2  2023-11-01 00:11:23   2023-11-01 00:18:49              1.0   \n",
       "19         2  2023-11-01 00:51:27   2023-11-01 00:56:14              1.0   \n",
       "\n",
       "    trip_distance  RatecodeID store_and_fwd_flag  PULocationID  DOLocationID  \\\n",
       "0           13.60         1.0                  N           132            26   \n",
       "1            3.50         1.0                  N           140             7   \n",
       "2           18.61         2.0                  N           132           230   \n",
       "3            0.39         1.0                  N           236           236   \n",
       "4            1.20         1.0                  N           236           141   \n",
       "5            0.60         1.0                  N           141           263   \n",
       "6            5.44         1.0                  N           114            62   \n",
       "7            0.90         1.0                  N            48           246   \n",
       "8            6.20         1.0                  N           170            42   \n",
       "9            0.40         1.0                  N           144           148   \n",
       "10           1.14         1.0                  N            90           164   \n",
       "11           1.90         1.0                  N           249           231   \n",
       "12           6.88         1.0                  N           230            25   \n",
       "13           0.80         1.0                  N            79           224   \n",
       "14           2.90         1.0                  N           144           255   \n",
       "15           1.93         1.0                  N           234            48   \n",
       "16           2.39         1.0                  N           141           143   \n",
       "17           1.80         1.0                  N           107           231   \n",
       "18           1.77         1.0                  N           142           229   \n",
       "19           1.00         1.0                  N           230           163   \n",
       "\n",
       "    payment_type  fare_amount  extra  mta_tax  tip_amount  tolls_amount  \\\n",
       "0              2         61.8   2.75      0.5        0.00          0.00   \n",
       "1              1         20.5   3.50      0.5        5.10          0.00   \n",
       "2              1         70.0   0.00      0.5       16.54          6.94   \n",
       "3              1          4.4   1.00      0.5        1.88          0.00   \n",
       "4              1         10.0   1.00      0.5        3.00          0.00   \n",
       "5              1          7.9   1.00      0.5        2.58          0.00   \n",
       "6              2         28.2   1.00      0.5        0.00          0.00   \n",
       "7              1          6.5   3.50      0.5        2.30          0.00   \n",
       "8              1         27.5   1.00      0.5        8.12          0.00   \n",
       "9              2          5.8   3.50      0.5        0.00          0.00   \n",
       "10             1          9.3   1.00      0.5        1.00          0.00   \n",
       "11             1         14.9   3.50      0.5        0.01          0.00   \n",
       "12             1         33.1   1.00      0.5        5.72          0.00   \n",
       "13             3          7.2   3.50      0.5        0.00          0.00   \n",
       "14             1         22.6   3.50      0.5        3.00          0.00   \n",
       "15             1         13.5   1.00      0.5        3.70          0.00   \n",
       "16             2         16.3   1.00      0.5        0.00          0.00   \n",
       "17             1         12.8   3.50      0.5        3.55          0.00   \n",
       "18             1         10.7   1.00      0.5        4.71          0.00   \n",
       "19             1          7.2   1.00      0.5        1.22          0.00   \n",
       "\n",
       "    improvement_surcharge  total_amount  congestion_surcharge  Airport_fee  \n",
       "0                     1.0         66.05                   0.0         1.75  \n",
       "1                     1.0         30.60                   2.5         0.00  \n",
       "2                     1.0         99.23                   2.5         1.75  \n",
       "3                     1.0         11.28                   2.5         0.00  \n",
       "4                     1.0         18.00                   2.5         0.00  \n",
       "5                     1.0         15.48                   2.5         0.00  \n",
       "6                     1.0         33.20                   2.5         0.00  \n",
       "7                     1.0         13.80                   2.5         0.00  \n",
       "8                     1.0         40.62                   2.5         0.00  \n",
       "9                     1.0         10.80                   2.5         0.00  \n",
       "10                    1.0         15.30                   2.5         0.00  \n",
       "11                    1.0         19.91                   2.5         0.00  \n",
       "12                    1.0         43.82                   2.5         0.00  \n",
       "13                    1.0         12.20                   2.5         0.00  \n",
       "14                    1.0         30.60                   2.5         0.00  \n",
       "15                    1.0         22.20                   2.5         0.00  \n",
       "16                    1.0         21.30                   2.5         0.00  \n",
       "17                    1.0         21.35                   2.5         0.00  \n",
       "18                    1.0         20.41                   2.5         0.00  \n",
       "19                    1.0         13.42                   2.5         0.00  "
      ]
     },
     "execution_count": 3,
     "metadata": {},
     "output_type": "execute_result"
    }
   ],
   "source": [
    "df.head(20)"
   ]
  },
  {
   "cell_type": "code",
   "execution_count": 51,
   "id": "72f6ab7a",
   "metadata": {},
   "outputs": [
    {
     "data": {
      "text/plain": [
       "(3207040, 17)"
      ]
     },
     "execution_count": 51,
     "metadata": {},
     "output_type": "execute_result"
    }
   ],
   "source": [
    "df.shape"
   ]
  },
  {
   "cell_type": "code",
   "execution_count": 52,
   "id": "9880cf80",
   "metadata": {},
   "outputs": [
    {
     "name": "stdout",
     "output_type": "stream",
     "text": [
      "<class 'pandas.core.frame.DataFrame'>\n",
      "Int64Index: 3207040 entries, 0 to 3207039\n",
      "Data columns (total 17 columns):\n",
      " #   Column                 Dtype         \n",
      "---  ------                 -----         \n",
      " 0   VendorID               int32         \n",
      " 1   tpep_pickup_datetime   datetime64[ns]\n",
      " 2   tpep_dropoff_datetime  datetime64[ns]\n",
      " 3   passenger_count        float64       \n",
      " 4   trip_distance          float64       \n",
      " 5   payment_type           int64         \n",
      " 6   fare_amount            float64       \n",
      " 7   extra                  float64       \n",
      " 8   mta_tax                float64       \n",
      " 9   tip_amount             float64       \n",
      " 10  tolls_amount           float64       \n",
      " 11  improvement_surcharge  float64       \n",
      " 12  total_amount           float64       \n",
      " 13  congestion_surcharge   float64       \n",
      " 14  Airport_fee            float64       \n",
      " 15  pickup_hour            int64         \n",
      " 16  pickup_dayofweek       int64         \n",
      "dtypes: datetime64[ns](2), float64(11), int32(1), int64(3)\n",
      "memory usage: 428.2 MB\n"
     ]
    }
   ],
   "source": [
    "df.info()"
   ]
  },
  {
   "cell_type": "code",
   "execution_count": 6,
   "id": "d6482bec",
   "metadata": {},
   "outputs": [
    {
     "data": {
      "text/plain": [
       "VendorID                      0\n",
       "tpep_pickup_datetime          0\n",
       "tpep_dropoff_datetime         0\n",
       "passenger_count          132675\n",
       "trip_distance                 0\n",
       "RatecodeID               132675\n",
       "store_and_fwd_flag       132675\n",
       "PULocationID                  0\n",
       "DOLocationID                  0\n",
       "payment_type                  0\n",
       "fare_amount                   0\n",
       "extra                         0\n",
       "mta_tax                       0\n",
       "tip_amount                    0\n",
       "tolls_amount                  0\n",
       "improvement_surcharge         0\n",
       "total_amount                  0\n",
       "congestion_surcharge     132675\n",
       "Airport_fee              132675\n",
       "dtype: int64"
      ]
     },
     "execution_count": 6,
     "metadata": {},
     "output_type": "execute_result"
    }
   ],
   "source": [
    "df.isnull().sum()"
   ]
  },
  {
   "cell_type": "code",
   "execution_count": 7,
   "id": "e20c357c",
   "metadata": {},
   "outputs": [
    {
     "data": {
      "text/plain": [
       "Index(['VendorID', 'tpep_pickup_datetime', 'tpep_dropoff_datetime',\n",
       "       'passenger_count', 'trip_distance', 'RatecodeID', 'store_and_fwd_flag',\n",
       "       'PULocationID', 'DOLocationID', 'payment_type', 'fare_amount', 'extra',\n",
       "       'mta_tax', 'tip_amount', 'tolls_amount', 'improvement_surcharge',\n",
       "       'total_amount', 'congestion_surcharge', 'Airport_fee'],\n",
       "      dtype='object')"
      ]
     },
     "execution_count": 7,
     "metadata": {},
     "output_type": "execute_result"
    }
   ],
   "source": [
    "df.columns"
   ]
  },
  {
   "cell_type": "code",
   "execution_count": 8,
   "id": "05ef3c68",
   "metadata": {},
   "outputs": [
    {
     "data": {
      "text/plain": [
       "3"
      ]
     },
     "execution_count": 8,
     "metadata": {},
     "output_type": "execute_result"
    }
   ],
   "source": [
    "df[\"VendorID\"].nunique()#total unique values"
   ]
  },
  {
   "cell_type": "code",
   "execution_count": 9,
   "id": "7475a667",
   "metadata": {},
   "outputs": [
    {
     "data": {
      "text/plain": [
       "array([1, 2, 6])"
      ]
     },
     "execution_count": 9,
     "metadata": {},
     "output_type": "execute_result"
    }
   ],
   "source": [
    "df[\"VendorID\"].unique()#all unique category"
   ]
  },
  {
   "cell_type": "code",
   "execution_count": 10,
   "id": "e3edbbb7",
   "metadata": {},
   "outputs": [
    {
     "data": {
      "text/plain": [
       "2    2487817\n",
       "1     851444\n",
       "6        454\n",
       "Name: VendorID, dtype: int64"
      ]
     },
     "execution_count": 10,
     "metadata": {},
     "output_type": "execute_result"
    }
   ],
   "source": [
    "df[\"VendorID\"].value_counts()"
   ]
  },
  {
   "cell_type": "code",
   "execution_count": 11,
   "id": "80f1bca3",
   "metadata": {},
   "outputs": [
    {
     "data": {
      "text/plain": [
       "<Axes: >"
      ]
     },
     "execution_count": 11,
     "metadata": {},
     "output_type": "execute_result"
    },
    {
     "data": {
      "image/png": "[encoded data removed]",
      "text/plain": [
       "<Figure size 600x300 with 1 Axes>"
      ]
     },
     "metadata": {},
     "output_type": "display_data"
    }
   ],
   "source": [
    "df[\"VendorID\"].value_counts().plot(kind=\"bar\", figsize=(6,3))"
   ]
  },
  {
   "cell_type": "code",
   "execution_count": 12,
   "id": "a6b997f6",
   "metadata": {},
   "outputs": [
    {
     "data": {
      "text/plain": [
       "10"
      ]
     },
     "execution_count": 12,
     "metadata": {},
     "output_type": "execute_result"
    }
   ],
   "source": [
    "df[\"passenger_count\"].nunique()"
   ]
  },
  {
   "cell_type": "code",
   "execution_count": 13,
   "id": "f6702af3",
   "metadata": {},
   "outputs": [
    {
     "data": {
      "text/plain": [
       "array([ 2.,  0.,  4.,  1.,  3.,  5.,  6.,  8.,  7.,  9., nan])"
      ]
     },
     "execution_count": 13,
     "metadata": {},
     "output_type": "execute_result"
    }
   ],
   "source": [
    "df[\"passenger_count\"].unique()"
   ]
  },
  {
   "cell_type": "code",
   "execution_count": 14,
   "id": "94930c31",
   "metadata": {},
   "outputs": [
    {
     "data": {
      "text/plain": [
       "1.0    2438039\n",
       "2.0     484579\n",
       "3.0     113651\n",
       "4.0      64725\n",
       "0.0      41443\n",
       "5.0      39579\n",
       "6.0      24969\n",
       "8.0         42\n",
       "7.0          9\n",
       "9.0          4\n",
       "Name: passenger_count, dtype: int64"
      ]
     },
     "execution_count": 14,
     "metadata": {},
     "output_type": "execute_result"
    }
   ],
   "source": [
    "df[\"passenger_count\"].value_counts()"
   ]
  },
  {
   "cell_type": "code",
   "execution_count": 15,
   "id": "5a6639c2",
   "metadata": {},
   "outputs": [
    {
     "data": {
      "text/plain": [
       "7"
      ]
     },
     "execution_count": 15,
     "metadata": {},
     "output_type": "execute_result"
    }
   ],
   "source": [
    "df[\"RatecodeID\"].nunique()"
   ]
  },
  {
   "cell_type": "code",
   "execution_count": 16,
   "id": "01098f34",
   "metadata": {},
   "outputs": [
    {
     "data": {
      "text/plain": [
       "array([ 1.,  2., 99.,  5.,  4.,  3.,  6., nan])"
      ]
     },
     "execution_count": 16,
     "metadata": {},
     "output_type": "execute_result"
    }
   ],
   "source": [
    "df[\"RatecodeID\"].unique()"
   ]
  },
  {
   "cell_type": "code",
   "execution_count": 17,
   "id": "92cc3648",
   "metadata": {},
   "outputs": [
    {
     "data": {
      "text/plain": [
       "1.0     3025815\n",
       "2.0      121449\n",
       "99.0      21342\n",
       "5.0       20966\n",
       "3.0       10695\n",
       "4.0        6767\n",
       "6.0           6\n",
       "Name: RatecodeID, dtype: int64"
      ]
     },
     "execution_count": 17,
     "metadata": {},
     "output_type": "execute_result"
    }
   ],
   "source": [
    "df[\"RatecodeID\"].value_counts()"
   ]
  },
  {
   "cell_type": "code",
   "execution_count": 18,
   "id": "3f92104e",
   "metadata": {},
   "outputs": [
    {
     "data": {
      "text/plain": [
       "2"
      ]
     },
     "execution_count": 18,
     "metadata": {},
     "output_type": "execute_result"
    }
   ],
   "source": [
    "df[\"store_and_fwd_flag\"].nunique()"
   ]
  },
  {
   "cell_type": "code",
   "execution_count": 19,
   "id": "4a851ff2",
   "metadata": {},
   "outputs": [
    {
     "data": {
      "text/plain": [
       "array(['N', 'Y', None], dtype=object)"
      ]
     },
     "execution_count": 19,
     "metadata": {},
     "output_type": "execute_result"
    }
   ],
   "source": [
    "df[\"store_and_fwd_flag\"].unique()"
   ]
  },
  {
   "cell_type": "code",
   "execution_count": 20,
   "id": "f3697e46",
   "metadata": {},
   "outputs": [
    {
     "data": {
      "text/plain": [
       "N    3192960\n",
       "Y      14080\n",
       "Name: store_and_fwd_flag, dtype: int64"
      ]
     },
     "execution_count": 20,
     "metadata": {},
     "output_type": "execute_result"
    }
   ],
   "source": [
    "df[\"store_and_fwd_flag\"].value_counts()"
   ]
  },
  {
   "cell_type": "code",
   "execution_count": 21,
   "id": "f57bfe5d",
   "metadata": {},
   "outputs": [
    {
     "data": {
      "text/plain": [
       "5"
      ]
     },
     "execution_count": 21,
     "metadata": {},
     "output_type": "execute_result"
    }
   ],
   "source": [
    "df[\"payment_type\"].nunique()"
   ]
  },
  {
   "cell_type": "code",
   "execution_count": 22,
   "id": "f4de0f44",
   "metadata": {},
   "outputs": [
    {
     "data": {
      "text/plain": [
       "array([2, 1, 3, 4, 0], dtype=int64)"
      ]
     },
     "execution_count": 22,
     "metadata": {},
     "output_type": "execute_result"
    }
   ],
   "source": [
    "df[\"payment_type\"].unique()"
   ]
  },
  {
   "cell_type": "code",
   "execution_count": 23,
   "id": "07603a6a",
   "metadata": {},
   "outputs": [
    {
     "data": {
      "text/plain": [
       "1    2630182\n",
       "2     507418\n",
       "0     132675\n",
       "4      48425\n",
       "3      21015\n",
       "Name: payment_type, dtype: int64"
      ]
     },
     "execution_count": 23,
     "metadata": {},
     "output_type": "execute_result"
    }
   ],
   "source": [
    "df[\"payment_type\"].value_counts()"
   ]
  },
  {
   "cell_type": "code",
   "execution_count": 24,
   "id": "416968aa",
   "metadata": {},
   "outputs": [
    {
     "data": {
      "text/plain": [
       "8"
      ]
     },
     "execution_count": 24,
     "metadata": {},
     "output_type": "execute_result"
    }
   ],
   "source": [
    "df[\"mta_tax\"].nunique()"
   ]
  },
  {
   "cell_type": "code",
   "execution_count": 25,
   "id": "cbc56264",
   "metadata": {},
   "outputs": [
    {
     "data": {
      "text/plain": [
       "array([ 0.5 , -0.5 ,  0.  ,  4.  ,  3.5 ,  0.8 ,  0.05,  2.  ])"
      ]
     },
     "execution_count": 25,
     "metadata": {},
     "output_type": "execute_result"
    }
   ],
   "source": [
    "df[\"mta_tax\"].unique()"
   ]
  },
  {
   "cell_type": "code",
   "execution_count": 26,
   "id": "9efa5fee",
   "metadata": {},
   "outputs": [
    {
     "data": {
      "text/plain": [
       " 0.50    3269715\n",
       "-0.50      35600\n",
       " 0.00      34394\n",
       " 3.50          2\n",
       " 4.00          1\n",
       " 0.80          1\n",
       " 0.05          1\n",
       " 2.00          1\n",
       "Name: mta_tax, dtype: int64"
      ]
     },
     "execution_count": 26,
     "metadata": {},
     "output_type": "execute_result"
    }
   ],
   "source": [
    "df[\"mta_tax\"].value_counts()"
   ]
  },
  {
   "cell_type": "code",
   "execution_count": 27,
   "id": "0ac6ebe0",
   "metadata": {},
   "outputs": [
    {
     "data": {
      "text/plain": [
       "4"
      ]
     },
     "execution_count": 27,
     "metadata": {},
     "output_type": "execute_result"
    }
   ],
   "source": [
    "df[\"improvement_surcharge\"].nunique()"
   ]
  },
  {
   "cell_type": "code",
   "execution_count": 28,
   "id": "283af7e0",
   "metadata": {},
   "outputs": [
    {
     "data": {
      "text/plain": [
       "array([ 1. , -1. ,  0. ,  0.3])"
      ]
     },
     "execution_count": 28,
     "metadata": {},
     "output_type": "execute_result"
    }
   ],
   "source": [
    "df[\"improvement_surcharge\"].unique()"
   ]
  },
  {
   "cell_type": "code",
   "execution_count": 29,
   "id": "1a008fae",
   "metadata": {},
   "outputs": [
    {
     "data": {
      "text/plain": [
       " 1.0    3300737\n",
       "-1.0      36725\n",
       " 0.0       1501\n",
       " 0.3        752\n",
       "Name: improvement_surcharge, dtype: int64"
      ]
     },
     "execution_count": 29,
     "metadata": {},
     "output_type": "execute_result"
    }
   ],
   "source": [
    "df[\"improvement_surcharge\"].value_counts()"
   ]
  },
  {
   "cell_type": "code",
   "execution_count": 30,
   "id": "28fd8791",
   "metadata": {},
   "outputs": [
    {
     "data": {
      "text/plain": [
       "5"
      ]
     },
     "execution_count": 30,
     "metadata": {},
     "output_type": "execute_result"
    }
   ],
   "source": [
    "df[\"congestion_surcharge\"].nunique()"
   ]
  },
  {
   "cell_type": "code",
   "execution_count": 31,
   "id": "b13a6012",
   "metadata": {},
   "outputs": [
    {
     "data": {
      "text/plain": [
       "array([ 0.  ,  2.5 , -2.5 ,  0.75,  0.5 ,   nan])"
      ]
     },
     "execution_count": 31,
     "metadata": {},
     "output_type": "execute_result"
    }
   ],
   "source": [
    "df[\"congestion_surcharge\"].unique()"
   ]
  },
  {
   "cell_type": "code",
   "execution_count": 32,
   "id": "d71f63e4",
   "metadata": {},
   "outputs": [
    {
     "data": {
      "text/plain": [
       "3"
      ]
     },
     "execution_count": 32,
     "metadata": {},
     "output_type": "execute_result"
    }
   ],
   "source": [
    "df[\"Airport_fee\"].nunique()"
   ]
  },
  {
   "cell_type": "code",
   "execution_count": 33,
   "id": "6d487675",
   "metadata": {},
   "outputs": [
    {
     "data": {
      "text/plain": [
       "array([ 1.75,  0.  , -1.75,   nan])"
      ]
     },
     "execution_count": 33,
     "metadata": {},
     "output_type": "execute_result"
    }
   ],
   "source": [
    "df[\"Airport_fee\"].unique()"
   ]
  },
  {
   "cell_type": "code",
   "execution_count": 34,
   "id": "176b1744",
   "metadata": {},
   "outputs": [
    {
     "data": {
      "text/plain": [
       " 0.00    2924365\n",
       " 1.75     277872\n",
       "-1.75       4803\n",
       "Name: Airport_fee, dtype: int64"
      ]
     },
     "execution_count": 34,
     "metadata": {},
     "output_type": "execute_result"
    }
   ],
   "source": [
    "df[\"Airport_fee\"].value_counts()"
   ]
  },
  {
   "cell_type": "code",
   "execution_count": 35,
   "id": "d91d5763",
   "metadata": {},
   "outputs": [],
   "source": [
    "df.drop(columns=[\"store_and_fwd_flag\"],inplace=True)"
   ]
  },
  {
   "cell_type": "code",
   "execution_count": 36,
   "id": "d933dda3",
   "metadata": {},
   "outputs": [
    {
     "data": {
      "text/plain": [
       "(3339715, 18)"
      ]
     },
     "execution_count": 36,
     "metadata": {},
     "output_type": "execute_result"
    }
   ],
   "source": [
    "df.shape"
   ]
  },
  {
   "cell_type": "code",
   "execution_count": 37,
   "id": "d2b802b6",
   "metadata": {},
   "outputs": [],
   "source": [
    "df.drop(columns=['PULocationID'],inplace=True)"
   ]
  },
  {
   "cell_type": "code",
   "execution_count": 38,
   "id": "daf0aca2",
   "metadata": {},
   "outputs": [],
   "source": [
    "df.drop(columns=[\"DOLocationID\"],inplace=True)"
   ]
  },
  {
   "cell_type": "code",
   "execution_count": 39,
   "id": "a43f4da2",
   "metadata": {},
   "outputs": [],
   "source": [
    "df.drop(columns=[\"RatecodeID\"],inplace=True)"
   ]
  },
  {
   "cell_type": "code",
   "execution_count": 40,
   "id": "d3ed030a",
   "metadata": {},
   "outputs": [
    {
     "data": {
      "image/png": "[encoded data removed]",
      "text/plain": [
       "<Figure size 1000x600 with 1 Axes>"
      ]
     },
     "metadata": {},
     "output_type": "display_data"
    }
   ],
   "source": [
    "plt.figure(figsize=(10,6))\n",
    "plt.hist(df[\"passenger_count\"],bins=20,color='skyblue', edgecolor='black')\n",
    "plt.title('Histogram of Passenger Count')\n",
    "plt.xlabel('Passenger Count')\n",
    "plt.ylabel('Frequency')\n",
    "plt.grid(True)\n",
    "plt.show()"
   ]
  },
  {
   "cell_type": "code",
   "execution_count": 41,
   "id": "91df7793",
   "metadata": {},
   "outputs": [],
   "source": [
    "df.dropna(inplace=True)"
   ]
  },
  {
   "cell_type": "code",
   "execution_count": 42,
   "id": "0d139d20",
   "metadata": {},
   "outputs": [
    {
     "data": {
      "text/plain": [
       "(3207040, 15)"
      ]
     },
     "execution_count": 42,
     "metadata": {},
     "output_type": "execute_result"
    }
   ],
   "source": [
    "df.shape"
   ]
  },
  {
   "cell_type": "code",
   "execution_count": 43,
   "id": "00d9cd20",
   "metadata": {},
   "outputs": [
    {
     "data": {
      "text/plain": [
       "VendorID                 0\n",
       "tpep_pickup_datetime     0\n",
       "tpep_dropoff_datetime    0\n",
       "passenger_count          0\n",
       "trip_distance            0\n",
       "payment_type             0\n",
       "fare_amount              0\n",
       "extra                    0\n",
       "mta_tax                  0\n",
       "tip_amount               0\n",
       "tolls_amount             0\n",
       "improvement_surcharge    0\n",
       "total_amount             0\n",
       "congestion_surcharge     0\n",
       "Airport_fee              0\n",
       "dtype: int64"
      ]
     },
     "execution_count": 43,
     "metadata": {},
     "output_type": "execute_result"
    }
   ],
   "source": [
    "df.isnull().sum()"
   ]
  },
  {
   "cell_type": "code",
   "execution_count": 44,
   "id": "3b57e22f",
   "metadata": {},
   "outputs": [
    {
     "data": {
      "text/plain": [
       "Index(['VendorID', 'tpep_pickup_datetime', 'tpep_dropoff_datetime',\n",
       "       'passenger_count', 'trip_distance', 'payment_type', 'fare_amount',\n",
       "       'extra', 'mta_tax', 'tip_amount', 'tolls_amount',\n",
       "       'improvement_surcharge', 'total_amount', 'congestion_surcharge',\n",
       "       'Airport_fee'],\n",
       "      dtype='object')"
      ]
     },
     "execution_count": 44,
     "metadata": {},
     "output_type": "execute_result"
    }
   ],
   "source": [
    "df.columns"
   ]
  },
  {
   "cell_type": "code",
   "execution_count": 45,
   "id": "d47c257d",
   "metadata": {},
   "outputs": [],
   "source": [
    "#datetime features"
   ]
  },
  {
   "cell_type": "code",
   "execution_count": 46,
   "id": "004d0f9a",
   "metadata": {},
   "outputs": [],
   "source": [
    "df['pickup_hour'] = df['tpep_pickup_datetime'].dt.hour\n",
    "df['pickup_dayofweek'] = df['tpep_pickup_datetime'].dt.dayofweek"
   ]
  },
  {
   "cell_type": "code",
   "execution_count": 47,
   "id": "dfd0072f",
   "metadata": {},
   "outputs": [
    {
     "data": {
      "text/plain": [
       " 9.30      138353\n",
       " 8.60      137799\n",
       " 10.00     137232\n",
       " 7.90      133266\n",
       " 10.70     131236\n",
       "            ...  \n",
       " 31.91          1\n",
       " 18.51          1\n",
       " 166.94         1\n",
       " 16.96          1\n",
       "-180.00         1\n",
       "Name: fare_amount, Length: 3068, dtype: int64"
      ]
     },
     "execution_count": 47,
     "metadata": {},
     "output_type": "execute_result"
    }
   ],
   "source": [
    "df[\"fare_amount\"].value_counts()"
   ]
  },
  {
   "cell_type": "code",
   "execution_count": 48,
   "id": "c3aecc6f",
   "metadata": {},
   "outputs": [
    {
     "data": {
      "text/plain": [
       "1041"
      ]
     },
     "execution_count": 48,
     "metadata": {},
     "output_type": "execute_result"
    }
   ],
   "source": [
    "(df['fare_amount'] == 0).sum()"
   ]
  },
  {
   "cell_type": "code",
   "execution_count": 49,
   "id": "0d528d46",
   "metadata": {},
   "outputs": [
    {
     "data": {
      "text/plain": [
       "40646"
      ]
     },
     "execution_count": 49,
     "metadata": {},
     "output_type": "execute_result"
    }
   ],
   "source": [
    "(df['trip_distance'] == 0).sum()"
   ]
  },
  {
   "cell_type": "code",
   "execution_count": 101,
   "id": "2b5051e1",
   "metadata": {},
   "outputs": [
    {
     "data": {
      "text/plain": [
       "1"
      ]
     },
     "execution_count": 101,
     "metadata": {},
     "output_type": "execute_result"
    }
   ],
   "source": [
    "(df['average_speed'] == 0).sum()"
   ]
  },
  {
   "cell_type": "code",
   "execution_count": 53,
   "id": "edaf1336",
   "metadata": {},
   "outputs": [],
   "source": [
    "df['fare_amount'] = df['fare_amount'].replace(0, df['fare_amount'].mean())\n",
    "df['trip_distance'] = df['trip_distance'].replace(0, df['trip_distance'].mean())"
   ]
  },
  {
   "cell_type": "code",
   "execution_count": 54,
   "id": "4cf8702b",
   "metadata": {},
   "outputs": [
    {
     "data": {
      "text/plain": [
       "0"
      ]
     },
     "execution_count": 54,
     "metadata": {},
     "output_type": "execute_result"
    }
   ],
   "source": [
    "(df['fare_amount'] == 0).sum()"
   ]
  },
  {
   "cell_type": "code",
   "execution_count": 55,
   "id": "6f38ff5b",
   "metadata": {},
   "outputs": [
    {
     "data": {
      "text/plain": [
       "0"
      ]
     },
     "execution_count": 55,
     "metadata": {},
     "output_type": "execute_result"
    }
   ],
   "source": [
    "(df['trip_distance'] == 0).sum()"
   ]
  },
  {
   "cell_type": "code",
   "execution_count": 56,
   "id": "6570b869",
   "metadata": {},
   "outputs": [],
   "source": [
    "#feature: Cost per unit distance\n",
    "df['cost_per_unit_distance'] = df['fare_amount'] / df['trip_distance']"
   ]
  },
  {
   "cell_type": "code",
   "execution_count": 57,
   "id": "35fcced5",
   "metadata": {},
   "outputs": [],
   "source": [
    "df['pickup_datetime'] = pd.to_datetime(df['tpep_pickup_datetime'])\n",
    "df['dropoff_datetime'] = pd.to_datetime(df['tpep_dropoff_datetime'])\n",
    "df['trip_duration'] = (df['dropoff_datetime'] - df['pickup_datetime']).dt.total_seconds()"
   ]
  },
  {
   "cell_type": "code",
   "execution_count": 58,
   "id": "e9c1b908",
   "metadata": {},
   "outputs": [
    {
     "data": {
      "text/plain": [
       "938"
      ]
     },
     "execution_count": 58,
     "metadata": {},
     "output_type": "execute_result"
    }
   ],
   "source": [
    "(df['trip_duration'] == 0).sum()"
   ]
  },
  {
   "cell_type": "code",
   "execution_count": 59,
   "id": "f6a02791",
   "metadata": {},
   "outputs": [],
   "source": [
    "df['trip_duration'] = df['trip_duration'].replace(0, df['trip_duration'].mean())"
   ]
  },
  {
   "cell_type": "code",
   "execution_count": 60,
   "id": "18d14f63",
   "metadata": {},
   "outputs": [
    {
     "data": {
      "text/plain": [
       "0"
      ]
     },
     "execution_count": 60,
     "metadata": {},
     "output_type": "execute_result"
    }
   ],
   "source": [
    "(df['trip_duration'] == 0).sum()"
   ]
  },
  {
   "cell_type": "code",
   "execution_count": 61,
   "id": "421b7a10",
   "metadata": {},
   "outputs": [],
   "source": [
    "#average speed (in miles per hour)\n",
    "df['average_speed'] = df['trip_distance'] / (df['trip_duration'] / 3600)  # Convert trip duration to hours\n"
   ]
  },
  {
   "cell_type": "code",
   "execution_count": 62,
   "id": "3da2ef24",
   "metadata": {},
   "outputs": [],
   "source": [
    "df.drop(['tpep_pickup_datetime', 'tpep_dropoff_datetime'], axis=1, inplace=True)\n",
    "df.drop(['pickup_datetime', 'dropoff_datetime'], axis=1, inplace=True)"
   ]
  },
  {
   "cell_type": "code",
   "execution_count": 63,
   "id": "87365f95",
   "metadata": {},
   "outputs": [
    {
     "data": {
      "text/html": [
       "<div>\n",
       "<style scoped>\n",
       "    .dataframe tbody tr th:only-of-type {\n",
       "        vertical-align: middle;\n",
       "    }\n",
       "\n",
       "    .dataframe tbody tr th {\n",
       "        vertical-align: top;\n",
       "    }\n",
       "\n",
       "    .dataframe thead th {\n",
       "        text-align: right;\n",
       "    }\n",
       "</style>\n",
       "<table border=\"1\" class=\"dataframe\">\n",
       "  <thead>\n",
       "    <tr style=\"text-align: right;\">\n",
       "      <th></th>\n",
       "      <th>VendorID</th>\n",
       "      <th>passenger_count</th>\n",
       "      <th>trip_distance</th>\n",
       "      <th>payment_type</th>\n",
       "      <th>fare_amount</th>\n",
       "      <th>extra</th>\n",
       "      <th>mta_tax</th>\n",
       "      <th>tip_amount</th>\n",
       "      <th>tolls_amount</th>\n",
       "      <th>improvement_surcharge</th>\n",
       "      <th>total_amount</th>\n",
       "      <th>congestion_surcharge</th>\n",
       "      <th>Airport_fee</th>\n",
       "      <th>pickup_hour</th>\n",
       "      <th>pickup_dayofweek</th>\n",
       "      <th>cost_per_unit_distance</th>\n",
       "      <th>trip_duration</th>\n",
       "      <th>average_speed</th>\n",
       "    </tr>\n",
       "  </thead>\n",
       "  <tbody>\n",
       "    <tr>\n",
       "      <th>0</th>\n",
       "      <td>1</td>\n",
       "      <td>2.0</td>\n",
       "      <td>13.60</td>\n",
       "      <td>2</td>\n",
       "      <td>61.8</td>\n",
       "      <td>2.75</td>\n",
       "      <td>0.5</td>\n",
       "      <td>0.00</td>\n",
       "      <td>0.00</td>\n",
       "      <td>1.0</td>\n",
       "      <td>66.05</td>\n",
       "      <td>0.0</td>\n",
       "      <td>1.75</td>\n",
       "      <td>0</td>\n",
       "      <td>2</td>\n",
       "      <td>4.544118</td>\n",
       "      <td>3665.0</td>\n",
       "      <td>13.358799</td>\n",
       "    </tr>\n",
       "    <tr>\n",
       "      <th>1</th>\n",
       "      <td>1</td>\n",
       "      <td>0.0</td>\n",
       "      <td>3.50</td>\n",
       "      <td>1</td>\n",
       "      <td>20.5</td>\n",
       "      <td>3.50</td>\n",
       "      <td>0.5</td>\n",
       "      <td>5.10</td>\n",
       "      <td>0.00</td>\n",
       "      <td>1.0</td>\n",
       "      <td>30.60</td>\n",
       "      <td>2.5</td>\n",
       "      <td>0.00</td>\n",
       "      <td>0</td>\n",
       "      <td>2</td>\n",
       "      <td>5.857143</td>\n",
       "      <td>1231.0</td>\n",
       "      <td>10.235581</td>\n",
       "    </tr>\n",
       "    <tr>\n",
       "      <th>2</th>\n",
       "      <td>2</td>\n",
       "      <td>4.0</td>\n",
       "      <td>18.61</td>\n",
       "      <td>1</td>\n",
       "      <td>70.0</td>\n",
       "      <td>0.00</td>\n",
       "      <td>0.5</td>\n",
       "      <td>16.54</td>\n",
       "      <td>6.94</td>\n",
       "      <td>1.0</td>\n",
       "      <td>99.23</td>\n",
       "      <td>2.5</td>\n",
       "      <td>1.75</td>\n",
       "      <td>23</td>\n",
       "      <td>1</td>\n",
       "      <td>3.761419</td>\n",
       "      <td>3358.0</td>\n",
       "      <td>19.951161</td>\n",
       "    </tr>\n",
       "    <tr>\n",
       "      <th>3</th>\n",
       "      <td>2</td>\n",
       "      <td>1.0</td>\n",
       "      <td>0.39</td>\n",
       "      <td>1</td>\n",
       "      <td>4.4</td>\n",
       "      <td>1.00</td>\n",
       "      <td>0.5</td>\n",
       "      <td>1.88</td>\n",
       "      <td>0.00</td>\n",
       "      <td>1.0</td>\n",
       "      <td>11.28</td>\n",
       "      <td>2.5</td>\n",
       "      <td>0.00</td>\n",
       "      <td>0</td>\n",
       "      <td>2</td>\n",
       "      <td>11.282051</td>\n",
       "      <td>69.0</td>\n",
       "      <td>20.347826</td>\n",
       "    </tr>\n",
       "    <tr>\n",
       "      <th>4</th>\n",
       "      <td>2</td>\n",
       "      <td>1.0</td>\n",
       "      <td>1.20</td>\n",
       "      <td>1</td>\n",
       "      <td>10.0</td>\n",
       "      <td>1.00</td>\n",
       "      <td>0.5</td>\n",
       "      <td>3.00</td>\n",
       "      <td>0.00</td>\n",
       "      <td>1.0</td>\n",
       "      <td>18.00</td>\n",
       "      <td>2.5</td>\n",
       "      <td>0.00</td>\n",
       "      <td>0</td>\n",
       "      <td>2</td>\n",
       "      <td>8.333333</td>\n",
       "      <td>475.0</td>\n",
       "      <td>9.094737</td>\n",
       "    </tr>\n",
       "    <tr>\n",
       "      <th>5</th>\n",
       "      <td>2</td>\n",
       "      <td>3.0</td>\n",
       "      <td>0.60</td>\n",
       "      <td>1</td>\n",
       "      <td>7.9</td>\n",
       "      <td>1.00</td>\n",
       "      <td>0.5</td>\n",
       "      <td>2.58</td>\n",
       "      <td>0.00</td>\n",
       "      <td>1.0</td>\n",
       "      <td>15.48</td>\n",
       "      <td>2.5</td>\n",
       "      <td>0.00</td>\n",
       "      <td>0</td>\n",
       "      <td>2</td>\n",
       "      <td>13.166667</td>\n",
       "      <td>381.0</td>\n",
       "      <td>5.669291</td>\n",
       "    </tr>\n",
       "    <tr>\n",
       "      <th>6</th>\n",
       "      <td>2</td>\n",
       "      <td>1.0</td>\n",
       "      <td>5.44</td>\n",
       "      <td>2</td>\n",
       "      <td>28.2</td>\n",
       "      <td>1.00</td>\n",
       "      <td>0.5</td>\n",
       "      <td>0.00</td>\n",
       "      <td>0.00</td>\n",
       "      <td>1.0</td>\n",
       "      <td>33.20</td>\n",
       "      <td>2.5</td>\n",
       "      <td>0.00</td>\n",
       "      <td>0</td>\n",
       "      <td>2</td>\n",
       "      <td>5.183824</td>\n",
       "      <td>1495.0</td>\n",
       "      <td>13.099666</td>\n",
       "    </tr>\n",
       "    <tr>\n",
       "      <th>7</th>\n",
       "      <td>1</td>\n",
       "      <td>2.0</td>\n",
       "      <td>0.90</td>\n",
       "      <td>1</td>\n",
       "      <td>6.5</td>\n",
       "      <td>3.50</td>\n",
       "      <td>0.5</td>\n",
       "      <td>2.30</td>\n",
       "      <td>0.00</td>\n",
       "      <td>1.0</td>\n",
       "      <td>13.80</td>\n",
       "      <td>2.5</td>\n",
       "      <td>0.00</td>\n",
       "      <td>0</td>\n",
       "      <td>2</td>\n",
       "      <td>7.222222</td>\n",
       "      <td>212.0</td>\n",
       "      <td>15.283019</td>\n",
       "    </tr>\n",
       "    <tr>\n",
       "      <th>8</th>\n",
       "      <td>2</td>\n",
       "      <td>1.0</td>\n",
       "      <td>6.20</td>\n",
       "      <td>1</td>\n",
       "      <td>27.5</td>\n",
       "      <td>1.00</td>\n",
       "      <td>0.5</td>\n",
       "      <td>8.12</td>\n",
       "      <td>0.00</td>\n",
       "      <td>1.0</td>\n",
       "      <td>40.62</td>\n",
       "      <td>2.5</td>\n",
       "      <td>0.00</td>\n",
       "      <td>0</td>\n",
       "      <td>2</td>\n",
       "      <td>4.435484</td>\n",
       "      <td>1264.0</td>\n",
       "      <td>17.658228</td>\n",
       "    </tr>\n",
       "    <tr>\n",
       "      <th>9</th>\n",
       "      <td>1</td>\n",
       "      <td>2.0</td>\n",
       "      <td>0.40</td>\n",
       "      <td>2</td>\n",
       "      <td>5.8</td>\n",
       "      <td>3.50</td>\n",
       "      <td>0.5</td>\n",
       "      <td>0.00</td>\n",
       "      <td>0.00</td>\n",
       "      <td>1.0</td>\n",
       "      <td>10.80</td>\n",
       "      <td>2.5</td>\n",
       "      <td>0.00</td>\n",
       "      <td>0</td>\n",
       "      <td>2</td>\n",
       "      <td>14.500000</td>\n",
       "      <td>333.0</td>\n",
       "      <td>4.324324</td>\n",
       "    </tr>\n",
       "  </tbody>\n",
       "</table>\n",
       "</div>"
      ],
      "text/plain": [
       "   VendorID  passenger_count  trip_distance  payment_type  fare_amount  extra  \\\n",
       "0         1              2.0          13.60             2         61.8   2.75   \n",
       "1         1              0.0           3.50             1         20.5   3.50   \n",
       "2         2              4.0          18.61             1         70.0   0.00   \n",
       "3         2              1.0           0.39             1          4.4   1.00   \n",
       "4         2              1.0           1.20             1         10.0   1.00   \n",
       "5         2              3.0           0.60             1          7.9   1.00   \n",
       "6         2              1.0           5.44             2         28.2   1.00   \n",
       "7         1              2.0           0.90             1          6.5   3.50   \n",
       "8         2              1.0           6.20             1         27.5   1.00   \n",
       "9         1              2.0           0.40             2          5.8   3.50   \n",
       "\n",
       "   mta_tax  tip_amount  tolls_amount  improvement_surcharge  total_amount  \\\n",
       "0      0.5        0.00          0.00                    1.0         66.05   \n",
       "1      0.5        5.10          0.00                    1.0         30.60   \n",
       "2      0.5       16.54          6.94                    1.0         99.23   \n",
       "3      0.5        1.88          0.00                    1.0         11.28   \n",
       "4      0.5        3.00          0.00                    1.0         18.00   \n",
       "5      0.5        2.58          0.00                    1.0         15.48   \n",
       "6      0.5        0.00          0.00                    1.0         33.20   \n",
       "7      0.5        2.30          0.00                    1.0         13.80   \n",
       "8      0.5        8.12          0.00                    1.0         40.62   \n",
       "9      0.5        0.00          0.00                    1.0         10.80   \n",
       "\n",
       "   congestion_surcharge  Airport_fee  pickup_hour  pickup_dayofweek  \\\n",
       "0                   0.0         1.75            0                 2   \n",
       "1                   2.5         0.00            0                 2   \n",
       "2                   2.5         1.75           23                 1   \n",
       "3                   2.5         0.00            0                 2   \n",
       "4                   2.5         0.00            0                 2   \n",
       "5                   2.5         0.00            0                 2   \n",
       "6                   2.5         0.00            0                 2   \n",
       "7                   2.5         0.00            0                 2   \n",
       "8                   2.5         0.00            0                 2   \n",
       "9                   2.5         0.00            0                 2   \n",
       "\n",
       "   cost_per_unit_distance  trip_duration  average_speed  \n",
       "0                4.544118         3665.0      13.358799  \n",
       "1                5.857143         1231.0      10.235581  \n",
       "2                3.761419         3358.0      19.951161  \n",
       "3               11.282051           69.0      20.347826  \n",
       "4                8.333333          475.0       9.094737  \n",
       "5               13.166667          381.0       5.669291  \n",
       "6                5.183824         1495.0      13.099666  \n",
       "7                7.222222          212.0      15.283019  \n",
       "8                4.435484         1264.0      17.658228  \n",
       "9               14.500000          333.0       4.324324  "
      ]
     },
     "execution_count": 63,
     "metadata": {},
     "output_type": "execute_result"
    }
   ],
   "source": [
    "df.head(10)"
   ]
  },
  {
   "cell_type": "code",
   "execution_count": 64,
   "id": "4da0e327",
   "metadata": {},
   "outputs": [
    {
     "data": {
      "text/plain": [
       "7"
      ]
     },
     "execution_count": 64,
     "metadata": {},
     "output_type": "execute_result"
    }
   ],
   "source": [
    "df[\"pickup_dayofweek\"].nunique()"
   ]
  },
  {
   "cell_type": "code",
   "execution_count": 65,
   "id": "20872c65",
   "metadata": {},
   "outputs": [
    {
     "data": {
      "text/plain": [
       "array([2, 1, 3, 4, 5, 6, 0], dtype=int64)"
      ]
     },
     "execution_count": 65,
     "metadata": {},
     "output_type": "execute_result"
    }
   ],
   "source": [
    "df[\"pickup_dayofweek\"].unique()"
   ]
  },
  {
   "cell_type": "code",
   "execution_count": 66,
   "id": "363d4c50",
   "metadata": {},
   "outputs": [
    {
     "data": {
      "text/plain": [
       "2    559359\n",
       "3    554174\n",
       "5    445101\n",
       "1    443854\n",
       "4    432792\n",
       "0    389239\n",
       "6    382521\n",
       "Name: pickup_dayofweek, dtype: int64"
      ]
     },
     "execution_count": 66,
     "metadata": {},
     "output_type": "execute_result"
    }
   ],
   "source": [
    "df[\"pickup_dayofweek\"].value_counts()"
   ]
  },
  {
   "cell_type": "code",
   "execution_count": 67,
   "id": "19c53d6e",
   "metadata": {},
   "outputs": [
    {
     "data": {
      "text/plain": [
       "24"
      ]
     },
     "execution_count": 67,
     "metadata": {},
     "output_type": "execute_result"
    }
   ],
   "source": [
    "df[\"pickup_hour\"].nunique()"
   ]
  },
  {
   "cell_type": "code",
   "execution_count": 68,
   "id": "dfc2e678",
   "metadata": {},
   "outputs": [
    {
     "data": {
      "text/plain": [
       "array([ 0, 23,  1, 21, 22, 20, 14, 15,  2, 19,  3,  4,  5,  6,  7,  8,  9,\n",
       "       10, 11, 12, 13, 16, 17, 18], dtype=int64)"
      ]
     },
     "execution_count": 68,
     "metadata": {},
     "output_type": "execute_result"
    }
   ],
   "source": [
    "df[\"pickup_hour\"].unique()"
   ]
  },
  {
   "cell_type": "code",
   "execution_count": 69,
   "id": "4f7c5553",
   "metadata": {},
   "outputs": [
    {
     "data": {
      "text/plain": [
       "18    230289\n",
       "17    220591\n",
       "15    204964\n",
       "19    204115\n",
       "16    204000\n",
       "14    196029\n",
       "21    187575\n",
       "20    185323\n",
       "13    181322\n",
       "12    174138\n",
       "22    170391\n",
       "11    161319\n",
       "10    148803\n",
       "9     135844\n",
       "23    126198\n",
       "8     118874\n",
       "7      86574\n",
       "0      80836\n",
       "1      55907\n",
       "6      42049\n",
       "2      34548\n",
       "3      23083\n",
       "5      18233\n",
       "4      16035\n",
       "Name: pickup_hour, dtype: int64"
      ]
     },
     "execution_count": 69,
     "metadata": {},
     "output_type": "execute_result"
    }
   ],
   "source": [
    "df[\"pickup_hour\"].value_counts()"
   ]
  },
  {
   "cell_type": "code",
   "execution_count": 70,
   "id": "1942b6a1",
   "metadata": {},
   "outputs": [],
   "source": [
    "#correlation matrix\n",
    "correlation_matrix = df.corr()"
   ]
  },
  {
   "cell_type": "code",
   "execution_count": 71,
   "id": "4f5e260d",
   "metadata": {},
   "outputs": [
    {
     "data": {
      "text/html": [
       "<div>\n",
       "<style scoped>\n",
       "    .dataframe tbody tr th:only-of-type {\n",
       "        vertical-align: middle;\n",
       "    }\n",
       "\n",
       "    .dataframe tbody tr th {\n",
       "        vertical-align: top;\n",
       "    }\n",
       "\n",
       "    .dataframe thead th {\n",
       "        text-align: right;\n",
       "    }\n",
       "</style>\n",
       "<table border=\"1\" class=\"dataframe\">\n",
       "  <thead>\n",
       "    <tr style=\"text-align: right;\">\n",
       "      <th></th>\n",
       "      <th>VendorID</th>\n",
       "      <th>passenger_count</th>\n",
       "      <th>trip_distance</th>\n",
       "      <th>payment_type</th>\n",
       "      <th>fare_amount</th>\n",
       "      <th>extra</th>\n",
       "      <th>mta_tax</th>\n",
       "      <th>tip_amount</th>\n",
       "      <th>tolls_amount</th>\n",
       "      <th>improvement_surcharge</th>\n",
       "      <th>total_amount</th>\n",
       "      <th>congestion_surcharge</th>\n",
       "      <th>Airport_fee</th>\n",
       "      <th>pickup_hour</th>\n",
       "      <th>pickup_dayofweek</th>\n",
       "      <th>cost_per_unit_distance</th>\n",
       "      <th>trip_duration</th>\n",
       "      <th>average_speed</th>\n",
       "    </tr>\n",
       "  </thead>\n",
       "  <tbody>\n",
       "    <tr>\n",
       "      <th>VendorID</th>\n",
       "      <td>1.000000</td>\n",
       "      <td>0.093010</td>\n",
       "      <td>0.013550</td>\n",
       "      <td>0.017151</td>\n",
       "      <td>0.020221</td>\n",
       "      <td>-0.540427</td>\n",
       "      <td>-0.057458</td>\n",
       "      <td>0.040495</td>\n",
       "      <td>0.017819</td>\n",
       "      <td>-0.059303</td>\n",
       "      <td>0.025560</td>\n",
       "      <td>-0.008665</td>\n",
       "      <td>0.036231</td>\n",
       "      <td>0.017908</td>\n",
       "      <td>0.017707</td>\n",
       "      <td>0.009256</td>\n",
       "      <td>0.008642</td>\n",
       "      <td>0.013160</td>\n",
       "    </tr>\n",
       "    <tr>\n",
       "      <th>passenger_count</th>\n",
       "      <td>0.093010</td>\n",
       "      <td>1.000000</td>\n",
       "      <td>0.020322</td>\n",
       "      <td>0.016850</td>\n",
       "      <td>0.039943</td>\n",
       "      <td>-0.049424</td>\n",
       "      <td>-0.010950</td>\n",
       "      <td>0.014253</td>\n",
       "      <td>0.029781</td>\n",
       "      <td>0.001319</td>\n",
       "      <td>0.037446</td>\n",
       "      <td>0.009580</td>\n",
       "      <td>0.017424</td>\n",
       "      <td>0.020899</td>\n",
       "      <td>0.062995</td>\n",
       "      <td>0.004263</td>\n",
       "      <td>0.024054</td>\n",
       "      <td>0.005867</td>\n",
       "    </tr>\n",
       "    <tr>\n",
       "      <th>trip_distance</th>\n",
       "      <td>0.013550</td>\n",
       "      <td>0.020322</td>\n",
       "      <td>1.000000</td>\n",
       "      <td>-0.001915</td>\n",
       "      <td>0.493264</td>\n",
       "      <td>0.111173</td>\n",
       "      <td>-0.038345</td>\n",
       "      <td>0.335111</td>\n",
       "      <td>0.376755</td>\n",
       "      <td>0.001890</td>\n",
       "      <td>0.494925</td>\n",
       "      <td>-0.144837</td>\n",
       "      <td>0.372667</td>\n",
       "      <td>-0.004245</td>\n",
       "      <td>0.003857</td>\n",
       "      <td>-0.015373</td>\n",
       "      <td>0.157506</td>\n",
       "      <td>0.051523</td>\n",
       "    </tr>\n",
       "    <tr>\n",
       "      <th>payment_type</th>\n",
       "      <td>0.017151</td>\n",
       "      <td>0.016850</td>\n",
       "      <td>-0.001915</td>\n",
       "      <td>1.000000</td>\n",
       "      <td>-0.103630</td>\n",
       "      <td>-0.086988</td>\n",
       "      <td>-0.402039</td>\n",
       "      <td>-0.368284</td>\n",
       "      <td>-0.037708</td>\n",
       "      <td>-0.439255</td>\n",
       "      <td>-0.172225</td>\n",
       "      <td>-0.325864</td>\n",
       "      <td>-0.009447</td>\n",
       "      <td>-0.024243</td>\n",
       "      <td>0.007513</td>\n",
       "      <td>0.000958</td>\n",
       "      <td>-0.009403</td>\n",
       "      <td>0.080703</td>\n",
       "    </tr>\n",
       "    <tr>\n",
       "      <th>fare_amount</th>\n",
       "      <td>0.020221</td>\n",
       "      <td>0.039943</td>\n",
       "      <td>0.493264</td>\n",
       "      <td>-0.103630</td>\n",
       "      <td>1.000000</td>\n",
       "      <td>0.194844</td>\n",
       "      <td>0.069746</td>\n",
       "      <td>0.602218</td>\n",
       "      <td>0.626589</td>\n",
       "      <td>0.226754</td>\n",
       "      <td>0.979628</td>\n",
       "      <td>-0.125227</td>\n",
       "      <td>0.582663</td>\n",
       "      <td>0.001492</td>\n",
       "      <td>-0.008515</td>\n",
       "      <td>0.090651</td>\n",
       "      <td>0.267758</td>\n",
       "      <td>0.070543</td>\n",
       "    </tr>\n",
       "    <tr>\n",
       "      <th>extra</th>\n",
       "      <td>-0.540427</td>\n",
       "      <td>-0.049424</td>\n",
       "      <td>0.111173</td>\n",
       "      <td>-0.086988</td>\n",
       "      <td>0.194844</td>\n",
       "      <td>1.000000</td>\n",
       "      <td>0.152858</td>\n",
       "      <td>0.220469</td>\n",
       "      <td>0.274921</td>\n",
       "      <td>0.145049</td>\n",
       "      <td>0.280037</td>\n",
       "      <td>0.057616</td>\n",
       "      <td>0.366218</td>\n",
       "      <td>0.177941</td>\n",
       "      <td>-0.117072</td>\n",
       "      <td>-0.006386</td>\n",
       "      <td>0.051911</td>\n",
       "      <td>-0.028943</td>\n",
       "    </tr>\n",
       "    <tr>\n",
       "      <th>mta_tax</th>\n",
       "      <td>-0.057458</td>\n",
       "      <td>-0.010950</td>\n",
       "      <td>-0.038345</td>\n",
       "      <td>-0.402039</td>\n",
       "      <td>0.069746</td>\n",
       "      <td>0.152858</td>\n",
       "      <td>1.000000</td>\n",
       "      <td>0.011279</td>\n",
       "      <td>-0.083073</td>\n",
       "      <td>0.902374</td>\n",
       "      <td>0.094197</td>\n",
       "      <td>0.624370</td>\n",
       "      <td>0.066428</td>\n",
       "      <td>0.015991</td>\n",
       "      <td>-0.008492</td>\n",
       "      <td>0.013341</td>\n",
       "      <td>0.003846</td>\n",
       "      <td>-0.162747</td>\n",
       "    </tr>\n",
       "    <tr>\n",
       "      <th>tip_amount</th>\n",
       "      <td>0.040495</td>\n",
       "      <td>0.014253</td>\n",
       "      <td>0.335111</td>\n",
       "      <td>-0.368284</td>\n",
       "      <td>0.602218</td>\n",
       "      <td>0.220469</td>\n",
       "      <td>0.011279</td>\n",
       "      <td>1.000000</td>\n",
       "      <td>0.488698</td>\n",
       "      <td>0.093831</td>\n",
       "      <td>0.720540</td>\n",
       "      <td>-0.029462</td>\n",
       "      <td>0.416144</td>\n",
       "      <td>0.032297</td>\n",
       "      <td>-0.014894</td>\n",
       "      <td>0.018175</td>\n",
       "      <td>0.169797</td>\n",
       "      <td>0.036608</td>\n",
       "    </tr>\n",
       "    <tr>\n",
       "      <th>tolls_amount</th>\n",
       "      <td>0.017819</td>\n",
       "      <td>0.029781</td>\n",
       "      <td>0.376755</td>\n",
       "      <td>-0.037708</td>\n",
       "      <td>0.626589</td>\n",
       "      <td>0.274921</td>\n",
       "      <td>-0.083073</td>\n",
       "      <td>0.488698</td>\n",
       "      <td>1.000000</td>\n",
       "      <td>0.055044</td>\n",
       "      <td>0.701356</td>\n",
       "      <td>-0.102660</td>\n",
       "      <td>0.490353</td>\n",
       "      <td>-0.015268</td>\n",
       "      <td>-0.007009</td>\n",
       "      <td>-0.000081</td>\n",
       "      <td>0.168354</td>\n",
       "      <td>0.006531</td>\n",
       "    </tr>\n",
       "    <tr>\n",
       "      <th>improvement_surcharge</th>\n",
       "      <td>-0.059303</td>\n",
       "      <td>0.001319</td>\n",
       "      <td>0.001890</td>\n",
       "      <td>-0.439255</td>\n",
       "      <td>0.226754</td>\n",
       "      <td>0.145049</td>\n",
       "      <td>0.902374</td>\n",
       "      <td>0.093831</td>\n",
       "      <td>0.055044</td>\n",
       "      <td>1.000000</td>\n",
       "      <td>0.244868</td>\n",
       "      <td>0.586543</td>\n",
       "      <td>0.081691</td>\n",
       "      <td>0.006481</td>\n",
       "      <td>-0.004350</td>\n",
       "      <td>0.064136</td>\n",
       "      <td>0.012287</td>\n",
       "      <td>-0.065002</td>\n",
       "    </tr>\n",
       "    <tr>\n",
       "      <th>total_amount</th>\n",
       "      <td>0.025560</td>\n",
       "      <td>0.037446</td>\n",
       "      <td>0.494925</td>\n",
       "      <td>-0.172225</td>\n",
       "      <td>0.979628</td>\n",
       "      <td>0.280037</td>\n",
       "      <td>0.094197</td>\n",
       "      <td>0.720540</td>\n",
       "      <td>0.701356</td>\n",
       "      <td>0.244868</td>\n",
       "      <td>1.000000</td>\n",
       "      <td>-0.078217</td>\n",
       "      <td>0.618741</td>\n",
       "      <td>0.020896</td>\n",
       "      <td>-0.018661</td>\n",
       "      <td>0.075763</td>\n",
       "      <td>0.263394</td>\n",
       "      <td>0.055797</td>\n",
       "    </tr>\n",
       "    <tr>\n",
       "      <th>congestion_surcharge</th>\n",
       "      <td>-0.008665</td>\n",
       "      <td>0.009580</td>\n",
       "      <td>-0.144837</td>\n",
       "      <td>-0.325864</td>\n",
       "      <td>-0.125227</td>\n",
       "      <td>0.057616</td>\n",
       "      <td>0.624370</td>\n",
       "      <td>-0.029462</td>\n",
       "      <td>-0.102660</td>\n",
       "      <td>0.586543</td>\n",
       "      <td>-0.078217</td>\n",
       "      <td>1.000000</td>\n",
       "      <td>-0.287144</td>\n",
       "      <td>0.020653</td>\n",
       "      <td>0.001722</td>\n",
       "      <td>0.011485</td>\n",
       "      <td>-0.041239</td>\n",
       "      <td>-0.131241</td>\n",
       "    </tr>\n",
       "    <tr>\n",
       "      <th>Airport_fee</th>\n",
       "      <td>0.036231</td>\n",
       "      <td>0.017424</td>\n",
       "      <td>0.372667</td>\n",
       "      <td>-0.009447</td>\n",
       "      <td>0.582663</td>\n",
       "      <td>0.366218</td>\n",
       "      <td>0.066428</td>\n",
       "      <td>0.416144</td>\n",
       "      <td>0.490353</td>\n",
       "      <td>0.081691</td>\n",
       "      <td>0.618741</td>\n",
       "      <td>-0.287144</td>\n",
       "      <td>1.000000</td>\n",
       "      <td>0.035780</td>\n",
       "      <td>-0.010832</td>\n",
       "      <td>0.005029</td>\n",
       "      <td>0.159734</td>\n",
       "      <td>0.022156</td>\n",
       "    </tr>\n",
       "    <tr>\n",
       "      <th>pickup_hour</th>\n",
       "      <td>0.017908</td>\n",
       "      <td>0.020899</td>\n",
       "      <td>-0.004245</td>\n",
       "      <td>-0.024243</td>\n",
       "      <td>0.001492</td>\n",
       "      <td>0.177941</td>\n",
       "      <td>0.015991</td>\n",
       "      <td>0.032297</td>\n",
       "      <td>-0.015268</td>\n",
       "      <td>0.006481</td>\n",
       "      <td>0.020896</td>\n",
       "      <td>0.020653</td>\n",
       "      <td>0.035780</td>\n",
       "      <td>1.000000</td>\n",
       "      <td>-0.072850</td>\n",
       "      <td>-0.000237</td>\n",
       "      <td>0.001724</td>\n",
       "      <td>-0.011579</td>\n",
       "    </tr>\n",
       "    <tr>\n",
       "      <th>pickup_dayofweek</th>\n",
       "      <td>0.017707</td>\n",
       "      <td>0.062995</td>\n",
       "      <td>0.003857</td>\n",
       "      <td>0.007513</td>\n",
       "      <td>-0.008515</td>\n",
       "      <td>-0.117072</td>\n",
       "      <td>-0.008492</td>\n",
       "      <td>-0.014894</td>\n",
       "      <td>-0.007009</td>\n",
       "      <td>-0.004350</td>\n",
       "      <td>-0.018661</td>\n",
       "      <td>0.001722</td>\n",
       "      <td>-0.010832</td>\n",
       "      <td>-0.072850</td>\n",
       "      <td>1.000000</td>\n",
       "      <td>-0.001198</td>\n",
       "      <td>-0.011313</td>\n",
       "      <td>0.006453</td>\n",
       "    </tr>\n",
       "    <tr>\n",
       "      <th>cost_per_unit_distance</th>\n",
       "      <td>0.009256</td>\n",
       "      <td>0.004263</td>\n",
       "      <td>-0.015373</td>\n",
       "      <td>0.000958</td>\n",
       "      <td>0.090651</td>\n",
       "      <td>-0.006386</td>\n",
       "      <td>0.013341</td>\n",
       "      <td>0.018175</td>\n",
       "      <td>-0.000081</td>\n",
       "      <td>0.064136</td>\n",
       "      <td>0.075763</td>\n",
       "      <td>0.011485</td>\n",
       "      <td>0.005029</td>\n",
       "      <td>-0.000237</td>\n",
       "      <td>-0.001198</td>\n",
       "      <td>1.000000</td>\n",
       "      <td>-0.008793</td>\n",
       "      <td>-0.000986</td>\n",
       "    </tr>\n",
       "    <tr>\n",
       "      <th>trip_duration</th>\n",
       "      <td>0.008642</td>\n",
       "      <td>0.024054</td>\n",
       "      <td>0.157506</td>\n",
       "      <td>-0.009403</td>\n",
       "      <td>0.267758</td>\n",
       "      <td>0.051911</td>\n",
       "      <td>0.003846</td>\n",
       "      <td>0.169797</td>\n",
       "      <td>0.168354</td>\n",
       "      <td>0.012287</td>\n",
       "      <td>0.263394</td>\n",
       "      <td>-0.041239</td>\n",
       "      <td>0.159734</td>\n",
       "      <td>0.001724</td>\n",
       "      <td>-0.011313</td>\n",
       "      <td>-0.008793</td>\n",
       "      <td>1.000000</td>\n",
       "      <td>-0.026819</td>\n",
       "    </tr>\n",
       "    <tr>\n",
       "      <th>average_speed</th>\n",
       "      <td>0.013160</td>\n",
       "      <td>0.005867</td>\n",
       "      <td>0.051523</td>\n",
       "      <td>0.080703</td>\n",
       "      <td>0.070543</td>\n",
       "      <td>-0.028943</td>\n",
       "      <td>-0.162747</td>\n",
       "      <td>0.036608</td>\n",
       "      <td>0.006531</td>\n",
       "      <td>-0.065002</td>\n",
       "      <td>0.055797</td>\n",
       "      <td>-0.131241</td>\n",
       "      <td>0.022156</td>\n",
       "      <td>-0.011579</td>\n",
       "      <td>0.006453</td>\n",
       "      <td>-0.000986</td>\n",
       "      <td>-0.026819</td>\n",
       "      <td>1.000000</td>\n",
       "    </tr>\n",
       "  </tbody>\n",
       "</table>\n",
       "</div>"
      ],
      "text/plain": [
       "                        VendorID  passenger_count  trip_distance  \\\n",
       "VendorID                1.000000         0.093010       0.013550   \n",
       "passenger_count         0.093010         1.000000       0.020322   \n",
       "trip_distance           0.013550         0.020322       1.000000   \n",
       "payment_type            0.017151         0.016850      -0.001915   \n",
       "fare_amount             0.020221         0.039943       0.493264   \n",
       "extra                  -0.540427        -0.049424       0.111173   \n",
       "mta_tax                -0.057458        -0.010950      -0.038345   \n",
       "tip_amount              0.040495         0.014253       0.335111   \n",
       "tolls_amount            0.017819         0.029781       0.376755   \n",
       "improvement_surcharge  -0.059303         0.001319       0.001890   \n",
       "total_amount            0.025560         0.037446       0.494925   \n",
       "congestion_surcharge   -0.008665         0.009580      -0.144837   \n",
       "Airport_fee             0.036231         0.017424       0.372667   \n",
       "pickup_hour             0.017908         0.020899      -0.004245   \n",
       "pickup_dayofweek        0.017707         0.062995       0.003857   \n",
       "cost_per_unit_distance  0.009256         0.004263      -0.015373   \n",
       "trip_duration           0.008642         0.024054       0.157506   \n",
       "average_speed           0.013160         0.005867       0.051523   \n",
       "\n",
       "                        payment_type  fare_amount     extra   mta_tax  \\\n",
       "VendorID                    0.017151     0.020221 -0.540427 -0.057458   \n",
       "passenger_count             0.016850     0.039943 -0.049424 -0.010950   \n",
       "trip_distance              -0.001915     0.493264  0.111173 -0.038345   \n",
       "payment_type                1.000000    -0.103630 -0.086988 -0.402039   \n",
       "fare_amount                -0.103630     1.000000  0.194844  0.069746   \n",
       "extra                      -0.086988     0.194844  1.000000  0.152858   \n",
       "mta_tax                    -0.402039     0.069746  0.152858  1.000000   \n",
       "tip_amount                 -0.368284     0.602218  0.220469  0.011279   \n",
       "tolls_amount               -0.037708     0.626589  0.274921 -0.083073   \n",
       "improvement_surcharge      -0.439255     0.226754  0.145049  0.902374   \n",
       "total_amount               -0.172225     0.979628  0.280037  0.094197   \n",
       "congestion_surcharge       -0.325864    -0.125227  0.057616  0.624370   \n",
       "Airport_fee                -0.009447     0.582663  0.366218  0.066428   \n",
       "pickup_hour                -0.024243     0.001492  0.177941  0.015991   \n",
       "pickup_dayofweek            0.007513    -0.008515 -0.117072 -0.008492   \n",
       "cost_per_unit_distance      0.000958     0.090651 -0.006386  0.013341   \n",
       "trip_duration              -0.009403     0.267758  0.051911  0.003846   \n",
       "average_speed               0.080703     0.070543 -0.028943 -0.162747   \n",
       "\n",
       "                        tip_amount  tolls_amount  improvement_surcharge  \\\n",
       "VendorID                  0.040495      0.017819              -0.059303   \n",
       "passenger_count           0.014253      0.029781               0.001319   \n",
       "trip_distance             0.335111      0.376755               0.001890   \n",
       "payment_type             -0.368284     -0.037708              -0.439255   \n",
       "fare_amount               0.602218      0.626589               0.226754   \n",
       "extra                     0.220469      0.274921               0.145049   \n",
       "mta_tax                   0.011279     -0.083073               0.902374   \n",
       "tip_amount                1.000000      0.488698               0.093831   \n",
       "tolls_amount              0.488698      1.000000               0.055044   \n",
       "improvement_surcharge     0.093831      0.055044               1.000000   \n",
       "total_amount              0.720540      0.701356               0.244868   \n",
       "congestion_surcharge     -0.029462     -0.102660               0.586543   \n",
       "Airport_fee               0.416144      0.490353               0.081691   \n",
       "pickup_hour               0.032297     -0.015268               0.006481   \n",
       "pickup_dayofweek         -0.014894     -0.007009              -0.004350   \n",
       "cost_per_unit_distance    0.018175     -0.000081               0.064136   \n",
       "trip_duration             0.169797      0.168354               0.012287   \n",
       "average_speed             0.036608      0.006531              -0.065002   \n",
       "\n",
       "                        total_amount  congestion_surcharge  Airport_fee  \\\n",
       "VendorID                    0.025560             -0.008665     0.036231   \n",
       "passenger_count             0.037446              0.009580     0.017424   \n",
       "trip_distance               0.494925             -0.144837     0.372667   \n",
       "payment_type               -0.172225             -0.325864    -0.009447   \n",
       "fare_amount                 0.979628             -0.125227     0.582663   \n",
       "extra                       0.280037              0.057616     0.366218   \n",
       "mta_tax                     0.094197              0.624370     0.066428   \n",
       "tip_amount                  0.720540             -0.029462     0.416144   \n",
       "tolls_amount                0.701356             -0.102660     0.490353   \n",
       "improvement_surcharge       0.244868              0.586543     0.081691   \n",
       "total_amount                1.000000             -0.078217     0.618741   \n",
       "congestion_surcharge       -0.078217              1.000000    -0.287144   \n",
       "Airport_fee                 0.618741             -0.287144     1.000000   \n",
       "pickup_hour                 0.020896              0.020653     0.035780   \n",
       "pickup_dayofweek           -0.018661              0.001722    -0.010832   \n",
       "cost_per_unit_distance      0.075763              0.011485     0.005029   \n",
       "trip_duration               0.263394             -0.041239     0.159734   \n",
       "average_speed               0.055797             -0.131241     0.022156   \n",
       "\n",
       "                        pickup_hour  pickup_dayofweek  cost_per_unit_distance  \\\n",
       "VendorID                   0.017908          0.017707                0.009256   \n",
       "passenger_count            0.020899          0.062995                0.004263   \n",
       "trip_distance             -0.004245          0.003857               -0.015373   \n",
       "payment_type              -0.024243          0.007513                0.000958   \n",
       "fare_amount                0.001492         -0.008515                0.090651   \n",
       "extra                      0.177941         -0.117072               -0.006386   \n",
       "mta_tax                    0.015991         -0.008492                0.013341   \n",
       "tip_amount                 0.032297         -0.014894                0.018175   \n",
       "tolls_amount              -0.015268         -0.007009               -0.000081   \n",
       "improvement_surcharge      0.006481         -0.004350                0.064136   \n",
       "total_amount               0.020896         -0.018661                0.075763   \n",
       "congestion_surcharge       0.020653          0.001722                0.011485   \n",
       "Airport_fee                0.035780         -0.010832                0.005029   \n",
       "pickup_hour                1.000000         -0.072850               -0.000237   \n",
       "pickup_dayofweek          -0.072850          1.000000               -0.001198   \n",
       "cost_per_unit_distance    -0.000237         -0.001198                1.000000   \n",
       "trip_duration              0.001724         -0.011313               -0.008793   \n",
       "average_speed             -0.011579          0.006453               -0.000986   \n",
       "\n",
       "                        trip_duration  average_speed  \n",
       "VendorID                     0.008642       0.013160  \n",
       "passenger_count              0.024054       0.005867  \n",
       "trip_distance                0.157506       0.051523  \n",
       "payment_type                -0.009403       0.080703  \n",
       "fare_amount                  0.267758       0.070543  \n",
       "extra                        0.051911      -0.028943  \n",
       "mta_tax                      0.003846      -0.162747  \n",
       "tip_amount                   0.169797       0.036608  \n",
       "tolls_amount                 0.168354       0.006531  \n",
       "improvement_surcharge        0.012287      -0.065002  \n",
       "total_amount                 0.263394       0.055797  \n",
       "congestion_surcharge        -0.041239      -0.131241  \n",
       "Airport_fee                  0.159734       0.022156  \n",
       "pickup_hour                  0.001724      -0.011579  \n",
       "pickup_dayofweek            -0.011313       0.006453  \n",
       "cost_per_unit_distance      -0.008793      -0.000986  \n",
       "trip_duration                1.000000      -0.026819  \n",
       "average_speed               -0.026819       1.000000  "
      ]
     },
     "execution_count": 71,
     "metadata": {},
     "output_type": "execute_result"
    }
   ],
   "source": [
    "correlation_matrix"
   ]
  },
  {
   "cell_type": "code",
   "execution_count": 72,
   "id": "6fcd6790",
   "metadata": {},
   "outputs": [
    {
     "data": {
      "image/png": "[encoded data removed]",
      "text/plain": [
       "<Figure size 1000x800 with 2 Axes>"
      ]
     },
     "metadata": {},
     "output_type": "display_data"
    }
   ],
   "source": [
    "#correlation matrix heatmap\n",
    "plt.figure(figsize=(10, 8))\n",
    "sns.heatmap(correlation_matrix, annot=True, cmap='coolwarm', fmt=\".2f\")\n",
    "plt.title('Correlation Matrix')\n",
    "plt.show()"
   ]
  },
  {
   "cell_type": "code",
   "execution_count": 73,
   "id": "589985e6",
   "metadata": {},
   "outputs": [
    {
     "data": {
      "text/plain": [
       "VendorID                  0\n",
       "passenger_count           0\n",
       "trip_distance             0\n",
       "payment_type              0\n",
       "fare_amount               0\n",
       "extra                     0\n",
       "mta_tax                   0\n",
       "tip_amount                0\n",
       "tolls_amount              0\n",
       "improvement_surcharge     0\n",
       "total_amount              0\n",
       "congestion_surcharge      0\n",
       "Airport_fee               0\n",
       "pickup_hour               0\n",
       "pickup_dayofweek          0\n",
       "cost_per_unit_distance    0\n",
       "trip_duration             0\n",
       "average_speed             0\n",
       "dtype: int64"
      ]
     },
     "execution_count": 73,
     "metadata": {},
     "output_type": "execute_result"
    }
   ],
   "source": [
    "np.isinf(df).sum()"
   ]
  },
  {
   "cell_type": "code",
   "execution_count": null,
   "id": "4153386b",
   "metadata": {},
   "outputs": [],
   "source": []
  },
  {
   "cell_type": "code",
   "execution_count": null,
   "id": "8d52e11f",
   "metadata": {},
   "outputs": [],
   "source": []
  },
  {
   "cell_type": "code",
   "execution_count": 74,
   "id": "5bd02238",
   "metadata": {},
   "outputs": [
    {
     "data": {
      "text/plain": [
       "Index(['VendorID', 'passenger_count', 'trip_distance', 'payment_type',\n",
       "       'fare_amount', 'extra', 'mta_tax', 'tip_amount', 'tolls_amount',\n",
       "       'improvement_surcharge', 'total_amount', 'congestion_surcharge',\n",
       "       'Airport_fee', 'pickup_hour', 'pickup_dayofweek',\n",
       "       'cost_per_unit_distance', 'trip_duration', 'average_speed'],\n",
       "      dtype='object')"
      ]
     },
     "execution_count": 74,
     "metadata": {},
     "output_type": "execute_result"
    }
   ],
   "source": [
    "df.columns"
   ]
  },
  {
   "cell_type": "code",
   "execution_count": 75,
   "id": "500ddc8b",
   "metadata": {},
   "outputs": [],
   "source": [
    "from sklearn.preprocessing import MinMaxScaler\n",
    "\n",
    "#the numerical features\n",
    "numerical_features = ['trip_distance', 'cost_per_unit_distance','average_speed',]\n",
    "\n",
    "# Initialize the MinMaxScaler\n",
    "scaler = MinMaxScaler()\n",
    "\n",
    "# Scale the numerical features between 0 and 1\n",
    "df[numerical_features] = scaler.fit_transform(df[numerical_features])"
   ]
  },
  {
   "cell_type": "code",
   "execution_count": 76,
   "id": "ff9bec64",
   "metadata": {},
   "outputs": [
    {
     "data": {
      "text/plain": [
       "VendorID                  0\n",
       "passenger_count           0\n",
       "trip_distance             0\n",
       "payment_type              0\n",
       "fare_amount               0\n",
       "extra                     0\n",
       "mta_tax                   0\n",
       "tip_amount                0\n",
       "tolls_amount              0\n",
       "improvement_surcharge     0\n",
       "total_amount              0\n",
       "congestion_surcharge      0\n",
       "Airport_fee               0\n",
       "pickup_hour               0\n",
       "pickup_dayofweek          0\n",
       "cost_per_unit_distance    0\n",
       "trip_duration             0\n",
       "average_speed             0\n",
       "dtype: int64"
      ]
     },
     "execution_count": 76,
     "metadata": {},
     "output_type": "execute_result"
    }
   ],
   "source": [
    "df.isna().sum()"
   ]
  },
  {
   "cell_type": "code",
   "execution_count": 77,
   "id": "11255761",
   "metadata": {},
   "outputs": [],
   "source": [
    "from sklearn.impute import SimpleImputer\n",
    "\n",
    "#Initialize SimpleImputer with strategy 'mean'\n",
    "imputer = SimpleImputer(strategy='mean')\n",
    "\n",
    "#Impute missing values in 'cost_per_unit_distance' column\n",
    "df['cost_per_unit_distance'] = imputer.fit_transform(df[['cost_per_unit_distance']])"
   ]
  },
  {
   "cell_type": "code",
   "execution_count": 78,
   "id": "d4020574",
   "metadata": {},
   "outputs": [
    {
     "data": {
      "text/plain": [
       "VendorID                  0\n",
       "passenger_count           0\n",
       "trip_distance             0\n",
       "payment_type              0\n",
       "fare_amount               0\n",
       "extra                     0\n",
       "mta_tax                   0\n",
       "tip_amount                0\n",
       "tolls_amount              0\n",
       "improvement_surcharge     0\n",
       "total_amount              0\n",
       "congestion_surcharge      0\n",
       "Airport_fee               0\n",
       "pickup_hour               0\n",
       "pickup_dayofweek          0\n",
       "cost_per_unit_distance    0\n",
       "trip_duration             0\n",
       "average_speed             0\n",
       "dtype: int64"
      ]
     },
     "execution_count": 78,
     "metadata": {},
     "output_type": "execute_result"
    }
   ],
   "source": [
    "np.isinf(df).sum()"
   ]
  },
  {
   "cell_type": "code",
   "execution_count": 79,
   "id": "5eceb5e0",
   "metadata": {},
   "outputs": [
    {
     "data": {
      "text/html": [
       "<div>\n",
       "<style scoped>\n",
       "    .dataframe tbody tr th:only-of-type {\n",
       "        vertical-align: middle;\n",
       "    }\n",
       "\n",
       "    .dataframe tbody tr th {\n",
       "        vertical-align: top;\n",
       "    }\n",
       "\n",
       "    .dataframe thead th {\n",
       "        text-align: right;\n",
       "    }\n",
       "</style>\n",
       "<table border=\"1\" class=\"dataframe\">\n",
       "  <thead>\n",
       "    <tr style=\"text-align: right;\">\n",
       "      <th></th>\n",
       "      <th>VendorID</th>\n",
       "      <th>passenger_count</th>\n",
       "      <th>trip_distance</th>\n",
       "      <th>payment_type</th>\n",
       "      <th>fare_amount</th>\n",
       "      <th>extra</th>\n",
       "      <th>mta_tax</th>\n",
       "      <th>tip_amount</th>\n",
       "      <th>tolls_amount</th>\n",
       "      <th>improvement_surcharge</th>\n",
       "      <th>total_amount</th>\n",
       "      <th>congestion_surcharge</th>\n",
       "      <th>Airport_fee</th>\n",
       "      <th>pickup_hour</th>\n",
       "      <th>pickup_dayofweek</th>\n",
       "      <th>cost_per_unit_distance</th>\n",
       "      <th>trip_duration</th>\n",
       "      <th>average_speed</th>\n",
       "    </tr>\n",
       "  </thead>\n",
       "  <tbody>\n",
       "    <tr>\n",
       "      <th>0</th>\n",
       "      <td>1</td>\n",
       "      <td>2.0</td>\n",
       "      <td>0.001724</td>\n",
       "      <td>2</td>\n",
       "      <td>61.8</td>\n",
       "      <td>2.75</td>\n",
       "      <td>0.5</td>\n",
       "      <td>0.00</td>\n",
       "      <td>0.00</td>\n",
       "      <td>1.0</td>\n",
       "      <td>66.05</td>\n",
       "      <td>0.0</td>\n",
       "      <td>1.75</td>\n",
       "      <td>0</td>\n",
       "      <td>2</td>\n",
       "      <td>0.343423</td>\n",
       "      <td>3665.0</td>\n",
       "      <td>0.041888</td>\n",
       "    </tr>\n",
       "    <tr>\n",
       "      <th>1</th>\n",
       "      <td>1</td>\n",
       "      <td>0.0</td>\n",
       "      <td>0.000443</td>\n",
       "      <td>1</td>\n",
       "      <td>20.5</td>\n",
       "      <td>3.50</td>\n",
       "      <td>0.5</td>\n",
       "      <td>5.10</td>\n",
       "      <td>0.00</td>\n",
       "      <td>1.0</td>\n",
       "      <td>30.60</td>\n",
       "      <td>2.5</td>\n",
       "      <td>0.00</td>\n",
       "      <td>0</td>\n",
       "      <td>2</td>\n",
       "      <td>0.343453</td>\n",
       "      <td>1231.0</td>\n",
       "      <td>0.041836</td>\n",
       "    </tr>\n",
       "    <tr>\n",
       "      <th>2</th>\n",
       "      <td>2</td>\n",
       "      <td>4.0</td>\n",
       "      <td>0.002360</td>\n",
       "      <td>1</td>\n",
       "      <td>70.0</td>\n",
       "      <td>0.00</td>\n",
       "      <td>0.5</td>\n",
       "      <td>16.54</td>\n",
       "      <td>6.94</td>\n",
       "      <td>1.0</td>\n",
       "      <td>99.23</td>\n",
       "      <td>2.5</td>\n",
       "      <td>1.75</td>\n",
       "      <td>23</td>\n",
       "      <td>1</td>\n",
       "      <td>0.343405</td>\n",
       "      <td>3358.0</td>\n",
       "      <td>0.041997</td>\n",
       "    </tr>\n",
       "    <tr>\n",
       "      <th>3</th>\n",
       "      <td>2</td>\n",
       "      <td>1.0</td>\n",
       "      <td>0.000048</td>\n",
       "      <td>1</td>\n",
       "      <td>4.4</td>\n",
       "      <td>1.00</td>\n",
       "      <td>0.5</td>\n",
       "      <td>1.88</td>\n",
       "      <td>0.00</td>\n",
       "      <td>1.0</td>\n",
       "      <td>11.28</td>\n",
       "      <td>2.5</td>\n",
       "      <td>0.00</td>\n",
       "      <td>0</td>\n",
       "      <td>2</td>\n",
       "      <td>0.343578</td>\n",
       "      <td>69.0</td>\n",
       "      <td>0.042003</td>\n",
       "    </tr>\n",
       "    <tr>\n",
       "      <th>4</th>\n",
       "      <td>2</td>\n",
       "      <td>1.0</td>\n",
       "      <td>0.000151</td>\n",
       "      <td>1</td>\n",
       "      <td>10.0</td>\n",
       "      <td>1.00</td>\n",
       "      <td>0.5</td>\n",
       "      <td>3.00</td>\n",
       "      <td>0.00</td>\n",
       "      <td>1.0</td>\n",
       "      <td>18.00</td>\n",
       "      <td>2.5</td>\n",
       "      <td>0.00</td>\n",
       "      <td>0</td>\n",
       "      <td>2</td>\n",
       "      <td>0.343510</td>\n",
       "      <td>475.0</td>\n",
       "      <td>0.041817</td>\n",
       "    </tr>\n",
       "    <tr>\n",
       "      <th>5</th>\n",
       "      <td>2</td>\n",
       "      <td>3.0</td>\n",
       "      <td>0.000075</td>\n",
       "      <td>1</td>\n",
       "      <td>7.9</td>\n",
       "      <td>1.00</td>\n",
       "      <td>0.5</td>\n",
       "      <td>2.58</td>\n",
       "      <td>0.00</td>\n",
       "      <td>1.0</td>\n",
       "      <td>15.48</td>\n",
       "      <td>2.5</td>\n",
       "      <td>0.00</td>\n",
       "      <td>0</td>\n",
       "      <td>2</td>\n",
       "      <td>0.343621</td>\n",
       "      <td>381.0</td>\n",
       "      <td>0.041760</td>\n",
       "    </tr>\n",
       "    <tr>\n",
       "      <th>6</th>\n",
       "      <td>2</td>\n",
       "      <td>1.0</td>\n",
       "      <td>0.000689</td>\n",
       "      <td>2</td>\n",
       "      <td>28.2</td>\n",
       "      <td>1.00</td>\n",
       "      <td>0.5</td>\n",
       "      <td>0.00</td>\n",
       "      <td>0.00</td>\n",
       "      <td>1.0</td>\n",
       "      <td>33.20</td>\n",
       "      <td>2.5</td>\n",
       "      <td>0.00</td>\n",
       "      <td>0</td>\n",
       "      <td>2</td>\n",
       "      <td>0.343437</td>\n",
       "      <td>1495.0</td>\n",
       "      <td>0.041883</td>\n",
       "    </tr>\n",
       "    <tr>\n",
       "      <th>7</th>\n",
       "      <td>1</td>\n",
       "      <td>2.0</td>\n",
       "      <td>0.000113</td>\n",
       "      <td>1</td>\n",
       "      <td>6.5</td>\n",
       "      <td>3.50</td>\n",
       "      <td>0.5</td>\n",
       "      <td>2.30</td>\n",
       "      <td>0.00</td>\n",
       "      <td>1.0</td>\n",
       "      <td>13.80</td>\n",
       "      <td>2.5</td>\n",
       "      <td>0.00</td>\n",
       "      <td>0</td>\n",
       "      <td>2</td>\n",
       "      <td>0.343484</td>\n",
       "      <td>212.0</td>\n",
       "      <td>0.041919</td>\n",
       "    </tr>\n",
       "    <tr>\n",
       "      <th>8</th>\n",
       "      <td>2</td>\n",
       "      <td>1.0</td>\n",
       "      <td>0.000785</td>\n",
       "      <td>1</td>\n",
       "      <td>27.5</td>\n",
       "      <td>1.00</td>\n",
       "      <td>0.5</td>\n",
       "      <td>8.12</td>\n",
       "      <td>0.00</td>\n",
       "      <td>1.0</td>\n",
       "      <td>40.62</td>\n",
       "      <td>2.5</td>\n",
       "      <td>0.00</td>\n",
       "      <td>0</td>\n",
       "      <td>2</td>\n",
       "      <td>0.343420</td>\n",
       "      <td>1264.0</td>\n",
       "      <td>0.041959</td>\n",
       "    </tr>\n",
       "    <tr>\n",
       "      <th>9</th>\n",
       "      <td>1</td>\n",
       "      <td>2.0</td>\n",
       "      <td>0.000049</td>\n",
       "      <td>2</td>\n",
       "      <td>5.8</td>\n",
       "      <td>3.50</td>\n",
       "      <td>0.5</td>\n",
       "      <td>0.00</td>\n",
       "      <td>0.00</td>\n",
       "      <td>1.0</td>\n",
       "      <td>10.80</td>\n",
       "      <td>2.5</td>\n",
       "      <td>0.00</td>\n",
       "      <td>0</td>\n",
       "      <td>2</td>\n",
       "      <td>0.343652</td>\n",
       "      <td>333.0</td>\n",
       "      <td>0.041738</td>\n",
       "    </tr>\n",
       "    <tr>\n",
       "      <th>10</th>\n",
       "      <td>2</td>\n",
       "      <td>1.0</td>\n",
       "      <td>0.000143</td>\n",
       "      <td>1</td>\n",
       "      <td>9.3</td>\n",
       "      <td>1.00</td>\n",
       "      <td>0.5</td>\n",
       "      <td>1.00</td>\n",
       "      <td>0.00</td>\n",
       "      <td>1.0</td>\n",
       "      <td>15.30</td>\n",
       "      <td>2.5</td>\n",
       "      <td>0.00</td>\n",
       "      <td>0</td>\n",
       "      <td>2</td>\n",
       "      <td>0.343506</td>\n",
       "      <td>494.0</td>\n",
       "      <td>0.041804</td>\n",
       "    </tr>\n",
       "    <tr>\n",
       "      <th>11</th>\n",
       "      <td>1</td>\n",
       "      <td>4.0</td>\n",
       "      <td>0.000240</td>\n",
       "      <td>1</td>\n",
       "      <td>14.9</td>\n",
       "      <td>3.50</td>\n",
       "      <td>0.5</td>\n",
       "      <td>0.01</td>\n",
       "      <td>0.00</td>\n",
       "      <td>1.0</td>\n",
       "      <td>19.91</td>\n",
       "      <td>2.5</td>\n",
       "      <td>0.00</td>\n",
       "      <td>0</td>\n",
       "      <td>2</td>\n",
       "      <td>0.343499</td>\n",
       "      <td>968.0</td>\n",
       "      <td>0.041784</td>\n",
       "    </tr>\n",
       "    <tr>\n",
       "      <th>12</th>\n",
       "      <td>2</td>\n",
       "      <td>1.0</td>\n",
       "      <td>0.000872</td>\n",
       "      <td>1</td>\n",
       "      <td>33.1</td>\n",
       "      <td>1.00</td>\n",
       "      <td>0.5</td>\n",
       "      <td>5.72</td>\n",
       "      <td>0.00</td>\n",
       "      <td>1.0</td>\n",
       "      <td>43.82</td>\n",
       "      <td>2.5</td>\n",
       "      <td>0.00</td>\n",
       "      <td>0</td>\n",
       "      <td>2</td>\n",
       "      <td>0.343429</td>\n",
       "      <td>1718.0</td>\n",
       "      <td>0.041905</td>\n",
       "    </tr>\n",
       "    <tr>\n",
       "      <th>13</th>\n",
       "      <td>1</td>\n",
       "      <td>1.0</td>\n",
       "      <td>0.000100</td>\n",
       "      <td>3</td>\n",
       "      <td>7.2</td>\n",
       "      <td>3.50</td>\n",
       "      <td>0.5</td>\n",
       "      <td>0.00</td>\n",
       "      <td>0.00</td>\n",
       "      <td>1.0</td>\n",
       "      <td>12.20</td>\n",
       "      <td>2.5</td>\n",
       "      <td>0.00</td>\n",
       "      <td>0</td>\n",
       "      <td>2</td>\n",
       "      <td>0.343525</td>\n",
       "      <td>400.0</td>\n",
       "      <td>0.041786</td>\n",
       "    </tr>\n",
       "    <tr>\n",
       "      <th>14</th>\n",
       "      <td>1</td>\n",
       "      <td>1.0</td>\n",
       "      <td>0.000367</td>\n",
       "      <td>1</td>\n",
       "      <td>22.6</td>\n",
       "      <td>3.50</td>\n",
       "      <td>0.5</td>\n",
       "      <td>3.00</td>\n",
       "      <td>0.00</td>\n",
       "      <td>1.0</td>\n",
       "      <td>30.60</td>\n",
       "      <td>2.5</td>\n",
       "      <td>0.00</td>\n",
       "      <td>0</td>\n",
       "      <td>2</td>\n",
       "      <td>0.343498</td>\n",
       "      <td>1338.0</td>\n",
       "      <td>0.041796</td>\n",
       "    </tr>\n",
       "    <tr>\n",
       "      <th>15</th>\n",
       "      <td>2</td>\n",
       "      <td>2.0</td>\n",
       "      <td>0.000244</td>\n",
       "      <td>1</td>\n",
       "      <td>13.5</td>\n",
       "      <td>1.00</td>\n",
       "      <td>0.5</td>\n",
       "      <td>3.70</td>\n",
       "      <td>0.00</td>\n",
       "      <td>1.0</td>\n",
       "      <td>22.20</td>\n",
       "      <td>2.5</td>\n",
       "      <td>0.00</td>\n",
       "      <td>0</td>\n",
       "      <td>2</td>\n",
       "      <td>0.343479</td>\n",
       "      <td>770.0</td>\n",
       "      <td>0.041816</td>\n",
       "    </tr>\n",
       "    <tr>\n",
       "      <th>16</th>\n",
       "      <td>2</td>\n",
       "      <td>1.0</td>\n",
       "      <td>0.000302</td>\n",
       "      <td>2</td>\n",
       "      <td>16.3</td>\n",
       "      <td>1.00</td>\n",
       "      <td>0.5</td>\n",
       "      <td>0.00</td>\n",
       "      <td>0.00</td>\n",
       "      <td>1.0</td>\n",
       "      <td>21.30</td>\n",
       "      <td>2.5</td>\n",
       "      <td>0.00</td>\n",
       "      <td>0</td>\n",
       "      <td>2</td>\n",
       "      <td>0.343475</td>\n",
       "      <td>864.0</td>\n",
       "      <td>0.041831</td>\n",
       "    </tr>\n",
       "    <tr>\n",
       "      <th>17</th>\n",
       "      <td>1</td>\n",
       "      <td>2.0</td>\n",
       "      <td>0.000227</td>\n",
       "      <td>1</td>\n",
       "      <td>12.8</td>\n",
       "      <td>3.50</td>\n",
       "      <td>0.5</td>\n",
       "      <td>3.55</td>\n",
       "      <td>0.00</td>\n",
       "      <td>1.0</td>\n",
       "      <td>21.35</td>\n",
       "      <td>2.5</td>\n",
       "      <td>0.00</td>\n",
       "      <td>0</td>\n",
       "      <td>2</td>\n",
       "      <td>0.343482</td>\n",
       "      <td>696.0</td>\n",
       "      <td>0.041821</td>\n",
       "    </tr>\n",
       "    <tr>\n",
       "      <th>18</th>\n",
       "      <td>2</td>\n",
       "      <td>1.0</td>\n",
       "      <td>0.000223</td>\n",
       "      <td>1</td>\n",
       "      <td>10.7</td>\n",
       "      <td>1.00</td>\n",
       "      <td>0.5</td>\n",
       "      <td>4.71</td>\n",
       "      <td>0.00</td>\n",
       "      <td>1.0</td>\n",
       "      <td>20.41</td>\n",
       "      <td>2.5</td>\n",
       "      <td>0.00</td>\n",
       "      <td>0</td>\n",
       "      <td>2</td>\n",
       "      <td>0.343457</td>\n",
       "      <td>446.0</td>\n",
       "      <td>0.041903</td>\n",
       "    </tr>\n",
       "    <tr>\n",
       "      <th>19</th>\n",
       "      <td>2</td>\n",
       "      <td>1.0</td>\n",
       "      <td>0.000126</td>\n",
       "      <td>1</td>\n",
       "      <td>7.2</td>\n",
       "      <td>1.00</td>\n",
       "      <td>0.5</td>\n",
       "      <td>1.22</td>\n",
       "      <td>0.00</td>\n",
       "      <td>1.0</td>\n",
       "      <td>13.42</td>\n",
       "      <td>2.5</td>\n",
       "      <td>0.00</td>\n",
       "      <td>0</td>\n",
       "      <td>2</td>\n",
       "      <td>0.343484</td>\n",
       "      <td>287.0</td>\n",
       "      <td>0.041874</td>\n",
       "    </tr>\n",
       "    <tr>\n",
       "      <th>20</th>\n",
       "      <td>2</td>\n",
       "      <td>4.0</td>\n",
       "      <td>0.002265</td>\n",
       "      <td>1</td>\n",
       "      <td>70.0</td>\n",
       "      <td>0.00</td>\n",
       "      <td>0.5</td>\n",
       "      <td>16.19</td>\n",
       "      <td>6.94</td>\n",
       "      <td>1.0</td>\n",
       "      <td>98.88</td>\n",
       "      <td>2.5</td>\n",
       "      <td>1.75</td>\n",
       "      <td>0</td>\n",
       "      <td>2</td>\n",
       "      <td>0.343408</td>\n",
       "      <td>2956.0</td>\n",
       "      <td>0.042026</td>\n",
       "    </tr>\n",
       "    <tr>\n",
       "      <th>21</th>\n",
       "      <td>2</td>\n",
       "      <td>1.0</td>\n",
       "      <td>0.000235</td>\n",
       "      <td>1</td>\n",
       "      <td>10.0</td>\n",
       "      <td>1.00</td>\n",
       "      <td>0.5</td>\n",
       "      <td>3.00</td>\n",
       "      <td>0.00</td>\n",
       "      <td>1.0</td>\n",
       "      <td>18.00</td>\n",
       "      <td>2.5</td>\n",
       "      <td>0.00</td>\n",
       "      <td>0</td>\n",
       "      <td>2</td>\n",
       "      <td>0.343442</td>\n",
       "      <td>405.0</td>\n",
       "      <td>0.041940</td>\n",
       "    </tr>\n",
       "    <tr>\n",
       "      <th>22</th>\n",
       "      <td>2</td>\n",
       "      <td>1.0</td>\n",
       "      <td>0.000069</td>\n",
       "      <td>1</td>\n",
       "      <td>5.1</td>\n",
       "      <td>1.00</td>\n",
       "      <td>0.5</td>\n",
       "      <td>2.02</td>\n",
       "      <td>0.00</td>\n",
       "      <td>1.0</td>\n",
       "      <td>12.12</td>\n",
       "      <td>2.5</td>\n",
       "      <td>0.00</td>\n",
       "      <td>0</td>\n",
       "      <td>2</td>\n",
       "      <td>0.343532</td>\n",
       "      <td>187.0</td>\n",
       "      <td>0.041842</td>\n",
       "    </tr>\n",
       "    <tr>\n",
       "      <th>23</th>\n",
       "      <td>1</td>\n",
       "      <td>1.0</td>\n",
       "      <td>0.001014</td>\n",
       "      <td>2</td>\n",
       "      <td>32.4</td>\n",
       "      <td>2.75</td>\n",
       "      <td>0.5</td>\n",
       "      <td>0.00</td>\n",
       "      <td>0.00</td>\n",
       "      <td>1.0</td>\n",
       "      <td>36.65</td>\n",
       "      <td>0.0</td>\n",
       "      <td>1.75</td>\n",
       "      <td>0</td>\n",
       "      <td>2</td>\n",
       "      <td>0.343411</td>\n",
       "      <td>1192.0</td>\n",
       "      <td>0.042066</td>\n",
       "    </tr>\n",
       "    <tr>\n",
       "      <th>24</th>\n",
       "      <td>2</td>\n",
       "      <td>1.0</td>\n",
       "      <td>0.000269</td>\n",
       "      <td>1</td>\n",
       "      <td>13.5</td>\n",
       "      <td>1.00</td>\n",
       "      <td>0.5</td>\n",
       "      <td>3.70</td>\n",
       "      <td>0.00</td>\n",
       "      <td>1.0</td>\n",
       "      <td>22.20</td>\n",
       "      <td>2.5</td>\n",
       "      <td>0.00</td>\n",
       "      <td>0</td>\n",
       "      <td>2</td>\n",
       "      <td>0.343464</td>\n",
       "      <td>707.0</td>\n",
       "      <td>0.041846</td>\n",
       "    </tr>\n",
       "    <tr>\n",
       "      <th>25</th>\n",
       "      <td>2</td>\n",
       "      <td>1.0</td>\n",
       "      <td>0.000193</td>\n",
       "      <td>1</td>\n",
       "      <td>12.1</td>\n",
       "      <td>1.00</td>\n",
       "      <td>0.5</td>\n",
       "      <td>3.42</td>\n",
       "      <td>0.00</td>\n",
       "      <td>1.0</td>\n",
       "      <td>20.52</td>\n",
       "      <td>2.5</td>\n",
       "      <td>0.00</td>\n",
       "      <td>0</td>\n",
       "      <td>2</td>\n",
       "      <td>0.343500</td>\n",
       "      <td>657.0</td>\n",
       "      <td>0.041805</td>\n",
       "    </tr>\n",
       "    <tr>\n",
       "      <th>26</th>\n",
       "      <td>2</td>\n",
       "      <td>1.0</td>\n",
       "      <td>0.000170</td>\n",
       "      <td>2</td>\n",
       "      <td>11.4</td>\n",
       "      <td>1.00</td>\n",
       "      <td>0.5</td>\n",
       "      <td>0.00</td>\n",
       "      <td>0.00</td>\n",
       "      <td>1.0</td>\n",
       "      <td>16.40</td>\n",
       "      <td>2.5</td>\n",
       "      <td>0.00</td>\n",
       "      <td>0</td>\n",
       "      <td>2</td>\n",
       "      <td>0.343513</td>\n",
       "      <td>644.0</td>\n",
       "      <td>0.041791</td>\n",
       "    </tr>\n",
       "    <tr>\n",
       "      <th>27</th>\n",
       "      <td>1</td>\n",
       "      <td>1.0</td>\n",
       "      <td>0.000100</td>\n",
       "      <td>1</td>\n",
       "      <td>7.2</td>\n",
       "      <td>3.50</td>\n",
       "      <td>0.5</td>\n",
       "      <td>2.45</td>\n",
       "      <td>0.00</td>\n",
       "      <td>1.0</td>\n",
       "      <td>14.65</td>\n",
       "      <td>2.5</td>\n",
       "      <td>0.00</td>\n",
       "      <td>0</td>\n",
       "      <td>2</td>\n",
       "      <td>0.343525</td>\n",
       "      <td>416.0</td>\n",
       "      <td>0.041781</td>\n",
       "    </tr>\n",
       "    <tr>\n",
       "      <th>28</th>\n",
       "      <td>1</td>\n",
       "      <td>1.0</td>\n",
       "      <td>0.000088</td>\n",
       "      <td>2</td>\n",
       "      <td>6.5</td>\n",
       "      <td>3.50</td>\n",
       "      <td>0.5</td>\n",
       "      <td>0.00</td>\n",
       "      <td>0.00</td>\n",
       "      <td>1.0</td>\n",
       "      <td>11.50</td>\n",
       "      <td>2.5</td>\n",
       "      <td>0.00</td>\n",
       "      <td>0</td>\n",
       "      <td>2</td>\n",
       "      <td>0.343532</td>\n",
       "      <td>429.0</td>\n",
       "      <td>0.041764</td>\n",
       "    </tr>\n",
       "    <tr>\n",
       "      <th>29</th>\n",
       "      <td>2</td>\n",
       "      <td>2.0</td>\n",
       "      <td>0.001138</td>\n",
       "      <td>2</td>\n",
       "      <td>40.1</td>\n",
       "      <td>1.00</td>\n",
       "      <td>0.5</td>\n",
       "      <td>0.00</td>\n",
       "      <td>0.00</td>\n",
       "      <td>1.0</td>\n",
       "      <td>45.10</td>\n",
       "      <td>2.5</td>\n",
       "      <td>0.00</td>\n",
       "      <td>0</td>\n",
       "      <td>2</td>\n",
       "      <td>0.343421</td>\n",
       "      <td>1728.0</td>\n",
       "      <td>0.041976</td>\n",
       "    </tr>\n",
       "  </tbody>\n",
       "</table>\n",
       "</div>"
      ],
      "text/plain": [
       "    VendorID  passenger_count  trip_distance  payment_type  fare_amount  \\\n",
       "0          1              2.0       0.001724             2         61.8   \n",
       "1          1              0.0       0.000443             1         20.5   \n",
       "2          2              4.0       0.002360             1         70.0   \n",
       "3          2              1.0       0.000048             1          4.4   \n",
       "4          2              1.0       0.000151             1         10.0   \n",
       "5          2              3.0       0.000075             1          7.9   \n",
       "6          2              1.0       0.000689             2         28.2   \n",
       "7          1              2.0       0.000113             1          6.5   \n",
       "8          2              1.0       0.000785             1         27.5   \n",
       "9          1              2.0       0.000049             2          5.8   \n",
       "10         2              1.0       0.000143             1          9.3   \n",
       "11         1              4.0       0.000240             1         14.9   \n",
       "12         2              1.0       0.000872             1         33.1   \n",
       "13         1              1.0       0.000100             3          7.2   \n",
       "14         1              1.0       0.000367             1         22.6   \n",
       "15         2              2.0       0.000244             1         13.5   \n",
       "16         2              1.0       0.000302             2         16.3   \n",
       "17         1              2.0       0.000227             1         12.8   \n",
       "18         2              1.0       0.000223             1         10.7   \n",
       "19         2              1.0       0.000126             1          7.2   \n",
       "20         2              4.0       0.002265             1         70.0   \n",
       "21         2              1.0       0.000235             1         10.0   \n",
       "22         2              1.0       0.000069             1          5.1   \n",
       "23         1              1.0       0.001014             2         32.4   \n",
       "24         2              1.0       0.000269             1         13.5   \n",
       "25         2              1.0       0.000193             1         12.1   \n",
       "26         2              1.0       0.000170             2         11.4   \n",
       "27         1              1.0       0.000100             1          7.2   \n",
       "28         1              1.0       0.000088             2          6.5   \n",
       "29         2              2.0       0.001138             2         40.1   \n",
       "\n",
       "    extra  mta_tax  tip_amount  tolls_amount  improvement_surcharge  \\\n",
       "0    2.75      0.5        0.00          0.00                    1.0   \n",
       "1    3.50      0.5        5.10          0.00                    1.0   \n",
       "2    0.00      0.5       16.54          6.94                    1.0   \n",
       "3    1.00      0.5        1.88          0.00                    1.0   \n",
       "4    1.00      0.5        3.00          0.00                    1.0   \n",
       "5    1.00      0.5        2.58          0.00                    1.0   \n",
       "6    1.00      0.5        0.00          0.00                    1.0   \n",
       "7    3.50      0.5        2.30          0.00                    1.0   \n",
       "8    1.00      0.5        8.12          0.00                    1.0   \n",
       "9    3.50      0.5        0.00          0.00                    1.0   \n",
       "10   1.00      0.5        1.00          0.00                    1.0   \n",
       "11   3.50      0.5        0.01          0.00                    1.0   \n",
       "12   1.00      0.5        5.72          0.00                    1.0   \n",
       "13   3.50      0.5        0.00          0.00                    1.0   \n",
       "14   3.50      0.5        3.00          0.00                    1.0   \n",
       "15   1.00      0.5        3.70          0.00                    1.0   \n",
       "16   1.00      0.5        0.00          0.00                    1.0   \n",
       "17   3.50      0.5        3.55          0.00                    1.0   \n",
       "18   1.00      0.5        4.71          0.00                    1.0   \n",
       "19   1.00      0.5        1.22          0.00                    1.0   \n",
       "20   0.00      0.5       16.19          6.94                    1.0   \n",
       "21   1.00      0.5        3.00          0.00                    1.0   \n",
       "22   1.00      0.5        2.02          0.00                    1.0   \n",
       "23   2.75      0.5        0.00          0.00                    1.0   \n",
       "24   1.00      0.5        3.70          0.00                    1.0   \n",
       "25   1.00      0.5        3.42          0.00                    1.0   \n",
       "26   1.00      0.5        0.00          0.00                    1.0   \n",
       "27   3.50      0.5        2.45          0.00                    1.0   \n",
       "28   3.50      0.5        0.00          0.00                    1.0   \n",
       "29   1.00      0.5        0.00          0.00                    1.0   \n",
       "\n",
       "    total_amount  congestion_surcharge  Airport_fee  pickup_hour  \\\n",
       "0          66.05                   0.0         1.75            0   \n",
       "1          30.60                   2.5         0.00            0   \n",
       "2          99.23                   2.5         1.75           23   \n",
       "3          11.28                   2.5         0.00            0   \n",
       "4          18.00                   2.5         0.00            0   \n",
       "5          15.48                   2.5         0.00            0   \n",
       "6          33.20                   2.5         0.00            0   \n",
       "7          13.80                   2.5         0.00            0   \n",
       "8          40.62                   2.5         0.00            0   \n",
       "9          10.80                   2.5         0.00            0   \n",
       "10         15.30                   2.5         0.00            0   \n",
       "11         19.91                   2.5         0.00            0   \n",
       "12         43.82                   2.5         0.00            0   \n",
       "13         12.20                   2.5         0.00            0   \n",
       "14         30.60                   2.5         0.00            0   \n",
       "15         22.20                   2.5         0.00            0   \n",
       "16         21.30                   2.5         0.00            0   \n",
       "17         21.35                   2.5         0.00            0   \n",
       "18         20.41                   2.5         0.00            0   \n",
       "19         13.42                   2.5         0.00            0   \n",
       "20         98.88                   2.5         1.75            0   \n",
       "21         18.00                   2.5         0.00            0   \n",
       "22         12.12                   2.5         0.00            0   \n",
       "23         36.65                   0.0         1.75            0   \n",
       "24         22.20                   2.5         0.00            0   \n",
       "25         20.52                   2.5         0.00            0   \n",
       "26         16.40                   2.5         0.00            0   \n",
       "27         14.65                   2.5         0.00            0   \n",
       "28         11.50                   2.5         0.00            0   \n",
       "29         45.10                   2.5         0.00            0   \n",
       "\n",
       "    pickup_dayofweek  cost_per_unit_distance  trip_duration  average_speed  \n",
       "0                  2                0.343423         3665.0       0.041888  \n",
       "1                  2                0.343453         1231.0       0.041836  \n",
       "2                  1                0.343405         3358.0       0.041997  \n",
       "3                  2                0.343578           69.0       0.042003  \n",
       "4                  2                0.343510          475.0       0.041817  \n",
       "5                  2                0.343621          381.0       0.041760  \n",
       "6                  2                0.343437         1495.0       0.041883  \n",
       "7                  2                0.343484          212.0       0.041919  \n",
       "8                  2                0.343420         1264.0       0.041959  \n",
       "9                  2                0.343652          333.0       0.041738  \n",
       "10                 2                0.343506          494.0       0.041804  \n",
       "11                 2                0.343499          968.0       0.041784  \n",
       "12                 2                0.343429         1718.0       0.041905  \n",
       "13                 2                0.343525          400.0       0.041786  \n",
       "14                 2                0.343498         1338.0       0.041796  \n",
       "15                 2                0.343479          770.0       0.041816  \n",
       "16                 2                0.343475          864.0       0.041831  \n",
       "17                 2                0.343482          696.0       0.041821  \n",
       "18                 2                0.343457          446.0       0.041903  \n",
       "19                 2                0.343484          287.0       0.041874  \n",
       "20                 2                0.343408         2956.0       0.042026  \n",
       "21                 2                0.343442          405.0       0.041940  \n",
       "22                 2                0.343532          187.0       0.041842  \n",
       "23                 2                0.343411         1192.0       0.042066  \n",
       "24                 2                0.343464          707.0       0.041846  \n",
       "25                 2                0.343500          657.0       0.041805  \n",
       "26                 2                0.343513          644.0       0.041791  \n",
       "27                 2                0.343525          416.0       0.041781  \n",
       "28                 2                0.343532          429.0       0.041764  \n",
       "29                 2                0.343421         1728.0       0.041976  "
      ]
     },
     "execution_count": 79,
     "metadata": {},
     "output_type": "execute_result"
    }
   ],
   "source": [
    "df.head(30)"
   ]
  },
  {
   "cell_type": "code",
   "execution_count": 80,
   "id": "5f2454cb",
   "metadata": {},
   "outputs": [
    {
     "data": {
      "text/plain": [
       "Index(['VendorID', 'passenger_count', 'trip_distance', 'payment_type',\n",
       "       'fare_amount', 'extra', 'mta_tax', 'tip_amount', 'tolls_amount',\n",
       "       'improvement_surcharge', 'total_amount', 'congestion_surcharge',\n",
       "       'Airport_fee', 'pickup_hour', 'pickup_dayofweek',\n",
       "       'cost_per_unit_distance', 'trip_duration', 'average_speed'],\n",
       "      dtype='object')"
      ]
     },
     "execution_count": 80,
     "metadata": {},
     "output_type": "execute_result"
    }
   ],
   "source": [
    "df.columns"
   ]
  },
  {
   "cell_type": "code",
   "execution_count": null,
   "id": "33e7455f",
   "metadata": {},
   "outputs": [],
   "source": [
    "# Split the data into training and testing sets add validation test too##"
   ]
  },
  {
   "cell_type": "code",
   "execution_count": 81,
   "id": "f781a90b",
   "metadata": {},
   "outputs": [
    {
     "data": {
      "text/plain": [
       "Index(['VendorID', 'passenger_count', 'trip_distance', 'payment_type',\n",
       "       'fare_amount', 'extra', 'mta_tax', 'tip_amount', 'tolls_amount',\n",
       "       'improvement_surcharge', 'total_amount', 'congestion_surcharge',\n",
       "       'Airport_fee', 'pickup_hour', 'pickup_dayofweek',\n",
       "       'cost_per_unit_distance', 'trip_duration', 'average_speed'],\n",
       "      dtype='object')"
      ]
     },
     "execution_count": 81,
     "metadata": {},
     "output_type": "execute_result"
    }
   ],
   "source": [
    "df.columns"
   ]
  },
  {
   "cell_type": "code",
   "execution_count": 82,
   "id": "b82cc887",
   "metadata": {},
   "outputs": [
    {
     "name": "stdout",
     "output_type": "stream",
     "text": [
      "Validation Mean Squared Error: 5.178988376723715\n",
      "Validation Mean Absolute Error: 0.05429143019165057\n",
      "Testing Mean Squared Error: 1.1314125724834272\n",
      "Testing Mean Absolute Error: 0.047529072765142205\n"
     ]
    }
   ],
   "source": [
    "from sklearn.ensemble import RandomForestRegressor\n",
    "from sklearn.metrics import mean_squared_error, mean_absolute_error\n",
    "from sklearn.model_selection import train_test_split\n",
    "\n",
    "# Define features (X) and target variable (y)\n",
    "X = df[['VendorID', 'passenger_count', 'trip_distance', 'payment_type',\n",
    "        'extra', 'mta_tax', 'tip_amount', 'tolls_amount',\n",
    "        'improvement_surcharge', 'pickup_hour', 'pickup_dayofweek',\n",
    "        'cost_per_unit_distance', 'trip_duration', 'average_speed']]\n",
    "y = df['fare_amount']\n",
    "\n",
    "# Split the data into training (70%), validation (10%), and testing (20%) sets\n",
    "X_train, X_temp, y_train, y_temp = train_test_split(X, y, test_size=0.3, random_state=42)\n",
    "X_val, X_test, y_val, y_test = train_test_split(X_temp, y_temp, test_size=0.67, random_state=42)\n",
    "\n",
    "# Initialize the Random Forest regressor\n",
    "rf_regressor = RandomForestRegressor(n_estimators=100, random_state=42)\n",
    "\n",
    "# Train the model\n",
    "rf_regressor.fit(X_train, y_train)\n",
    "\n",
    "# Predict on the validation set\n",
    "y_val_pred = rf_regressor.predict(X_val)\n",
    "\n",
    "# Evaluate the model on the validation set\n",
    "mse_val = mean_squared_error(y_val, y_val_pred)\n",
    "mae_val = mean_absolute_error(y_val, y_val_pred)\n",
    "\n",
    "print(\"Validation Mean Squared Error:\", mse_val)\n",
    "print(\"Validation Mean Absolute Error:\", mae_val)\n",
    "\n",
    "# Predict on the testing set\n",
    "y_test_pred = rf_regressor.predict(X_test)\n",
    "\n",
    "# Evaluate the model on the testing set\n",
    "mse_test = mean_squared_error(y_test, y_test_pred)\n",
    "mae_test = mean_absolute_error(y_test, y_test_pred)\n",
    "\n",
    "print(\"Testing Mean Squared Error:\", mse_test)\n",
    "print(\"Testing Mean Absolute Error:\", mae_test)"
   ]
  },
  {
   "cell_type": "code",
   "execution_count": null,
   "id": "1833007a",
   "metadata": {},
   "outputs": [],
   "source": [
    "# Validation Mean Squared Error: 5.14872142353684\n",
    "# Validation Mean Absolute Error: 0.052813032225339215\n",
    "# Testing Mean Squared Error: 1.0944647634050018\n",
    "# Testing Mean Absolute Error: 0.04657202724299188"
   ]
  },
  {
   "cell_type": "code",
   "execution_count": 83,
   "id": "cfc19347",
   "metadata": {},
   "outputs": [
    {
     "name": "stdout",
     "output_type": "stream",
     "text": [
      "Defaulting to user installation because normal site-packages is not writeableNote: you may need to restart the kernel to use updated packages.\n",
      "\n",
      "Requirement already satisfied: joblib in c:\\programdata\\anaconda3\\lib\\site-packages (1.2.0)\n"
     ]
    }
   ],
   "source": [
    "pip install joblib"
   ]
  },
  {
   "cell_type": "code",
   "execution_count": 84,
   "id": "2abfb1c8",
   "metadata": {},
   "outputs": [
    {
     "data": {
      "text/plain": [
       "['random_forest_yellowtaxi_model.pkl']"
      ]
     },
     "execution_count": 84,
     "metadata": {},
     "output_type": "execute_result"
    }
   ],
   "source": [
    "import joblib\n",
    "\n",
    "# Save the trained model to a file\n",
    "joblib.dump(rf_regressor, 'random_forest_yellowtaxi_model.pkl')"
   ]
  },
  {
   "cell_type": "code",
   "execution_count": 85,
   "id": "327f5388",
   "metadata": {},
   "outputs": [],
   "source": [
    "loaded_yellowtaxi_model = joblib.load('random_forest_yellowtaxi_model.pkl')"
   ]
  },
  {
   "cell_type": "code",
   "execution_count": 86,
   "id": "8c5dc96b",
   "metadata": {},
   "outputs": [],
   "source": [
    "#predicting_new_data"
   ]
  },
  {
   "cell_type": "code",
   "execution_count": 87,
   "id": "c3eb0939",
   "metadata": {},
   "outputs": [],
   "source": [
    "df_subset = df.head(10000)"
   ]
  },
  {
   "cell_type": "code",
   "execution_count": 88,
   "id": "142d8f6a",
   "metadata": {},
   "outputs": [],
   "source": [
    "#saving the subset to new data\n",
    "df_subset.to_csv('subset_data.csv', index=False)"
   ]
  },
  {
   "cell_type": "code",
   "execution_count": 89,
   "id": "1a590c02",
   "metadata": {},
   "outputs": [
    {
     "data": {
      "text/html": [
       "<div>\n",
       "<style scoped>\n",
       "    .dataframe tbody tr th:only-of-type {\n",
       "        vertical-align: middle;\n",
       "    }\n",
       "\n",
       "    .dataframe tbody tr th {\n",
       "        vertical-align: top;\n",
       "    }\n",
       "\n",
       "    .dataframe thead th {\n",
       "        text-align: right;\n",
       "    }\n",
       "</style>\n",
       "<table border=\"1\" class=\"dataframe\">\n",
       "  <thead>\n",
       "    <tr style=\"text-align: right;\">\n",
       "      <th></th>\n",
       "      <th>VendorID</th>\n",
       "      <th>passenger_count</th>\n",
       "      <th>trip_distance</th>\n",
       "      <th>payment_type</th>\n",
       "      <th>fare_amount</th>\n",
       "      <th>extra</th>\n",
       "      <th>mta_tax</th>\n",
       "      <th>tip_amount</th>\n",
       "      <th>tolls_amount</th>\n",
       "      <th>improvement_surcharge</th>\n",
       "      <th>total_amount</th>\n",
       "      <th>congestion_surcharge</th>\n",
       "      <th>Airport_fee</th>\n",
       "      <th>pickup_hour</th>\n",
       "      <th>pickup_dayofweek</th>\n",
       "      <th>cost_per_unit_distance</th>\n",
       "      <th>trip_duration</th>\n",
       "      <th>average_speed</th>\n",
       "    </tr>\n",
       "  </thead>\n",
       "  <tbody>\n",
       "    <tr>\n",
       "      <th>0</th>\n",
       "      <td>1</td>\n",
       "      <td>2.0</td>\n",
       "      <td>0.001724</td>\n",
       "      <td>2</td>\n",
       "      <td>61.8</td>\n",
       "      <td>2.75</td>\n",
       "      <td>0.5</td>\n",
       "      <td>0.00</td>\n",
       "      <td>0.00</td>\n",
       "      <td>1.0</td>\n",
       "      <td>66.05</td>\n",
       "      <td>0.0</td>\n",
       "      <td>1.75</td>\n",
       "      <td>0</td>\n",
       "      <td>2</td>\n",
       "      <td>0.343423</td>\n",
       "      <td>3665.0</td>\n",
       "      <td>0.041888</td>\n",
       "    </tr>\n",
       "    <tr>\n",
       "      <th>1</th>\n",
       "      <td>1</td>\n",
       "      <td>0.0</td>\n",
       "      <td>0.000443</td>\n",
       "      <td>1</td>\n",
       "      <td>20.5</td>\n",
       "      <td>3.50</td>\n",
       "      <td>0.5</td>\n",
       "      <td>5.10</td>\n",
       "      <td>0.00</td>\n",
       "      <td>1.0</td>\n",
       "      <td>30.60</td>\n",
       "      <td>2.5</td>\n",
       "      <td>0.00</td>\n",
       "      <td>0</td>\n",
       "      <td>2</td>\n",
       "      <td>0.343453</td>\n",
       "      <td>1231.0</td>\n",
       "      <td>0.041836</td>\n",
       "    </tr>\n",
       "    <tr>\n",
       "      <th>2</th>\n",
       "      <td>2</td>\n",
       "      <td>4.0</td>\n",
       "      <td>0.002360</td>\n",
       "      <td>1</td>\n",
       "      <td>70.0</td>\n",
       "      <td>0.00</td>\n",
       "      <td>0.5</td>\n",
       "      <td>16.54</td>\n",
       "      <td>6.94</td>\n",
       "      <td>1.0</td>\n",
       "      <td>99.23</td>\n",
       "      <td>2.5</td>\n",
       "      <td>1.75</td>\n",
       "      <td>23</td>\n",
       "      <td>1</td>\n",
       "      <td>0.343405</td>\n",
       "      <td>3358.0</td>\n",
       "      <td>0.041997</td>\n",
       "    </tr>\n",
       "    <tr>\n",
       "      <th>3</th>\n",
       "      <td>2</td>\n",
       "      <td>1.0</td>\n",
       "      <td>0.000048</td>\n",
       "      <td>1</td>\n",
       "      <td>4.4</td>\n",
       "      <td>1.00</td>\n",
       "      <td>0.5</td>\n",
       "      <td>1.88</td>\n",
       "      <td>0.00</td>\n",
       "      <td>1.0</td>\n",
       "      <td>11.28</td>\n",
       "      <td>2.5</td>\n",
       "      <td>0.00</td>\n",
       "      <td>0</td>\n",
       "      <td>2</td>\n",
       "      <td>0.343578</td>\n",
       "      <td>69.0</td>\n",
       "      <td>0.042003</td>\n",
       "    </tr>\n",
       "    <tr>\n",
       "      <th>4</th>\n",
       "      <td>2</td>\n",
       "      <td>1.0</td>\n",
       "      <td>0.000151</td>\n",
       "      <td>1</td>\n",
       "      <td>10.0</td>\n",
       "      <td>1.00</td>\n",
       "      <td>0.5</td>\n",
       "      <td>3.00</td>\n",
       "      <td>0.00</td>\n",
       "      <td>1.0</td>\n",
       "      <td>18.00</td>\n",
       "      <td>2.5</td>\n",
       "      <td>0.00</td>\n",
       "      <td>0</td>\n",
       "      <td>2</td>\n",
       "      <td>0.343510</td>\n",
       "      <td>475.0</td>\n",
       "      <td>0.041817</td>\n",
       "    </tr>\n",
       "  </tbody>\n",
       "</table>\n",
       "</div>"
      ],
      "text/plain": [
       "   VendorID  passenger_count  trip_distance  payment_type  fare_amount  extra  \\\n",
       "0         1              2.0       0.001724             2         61.8   2.75   \n",
       "1         1              0.0       0.000443             1         20.5   3.50   \n",
       "2         2              4.0       0.002360             1         70.0   0.00   \n",
       "3         2              1.0       0.000048             1          4.4   1.00   \n",
       "4         2              1.0       0.000151             1         10.0   1.00   \n",
       "\n",
       "   mta_tax  tip_amount  tolls_amount  improvement_surcharge  total_amount  \\\n",
       "0      0.5        0.00          0.00                    1.0         66.05   \n",
       "1      0.5        5.10          0.00                    1.0         30.60   \n",
       "2      0.5       16.54          6.94                    1.0         99.23   \n",
       "3      0.5        1.88          0.00                    1.0         11.28   \n",
       "4      0.5        3.00          0.00                    1.0         18.00   \n",
       "\n",
       "   congestion_surcharge  Airport_fee  pickup_hour  pickup_dayofweek  \\\n",
       "0                   0.0         1.75            0                 2   \n",
       "1                   2.5         0.00            0                 2   \n",
       "2                   2.5         1.75           23                 1   \n",
       "3                   2.5         0.00            0                 2   \n",
       "4                   2.5         0.00            0                 2   \n",
       "\n",
       "   cost_per_unit_distance  trip_duration  average_speed  \n",
       "0                0.343423         3665.0       0.041888  \n",
       "1                0.343453         1231.0       0.041836  \n",
       "2                0.343405         3358.0       0.041997  \n",
       "3                0.343578           69.0       0.042003  \n",
       "4                0.343510          475.0       0.041817  "
      ]
     },
     "execution_count": 89,
     "metadata": {},
     "output_type": "execute_result"
    }
   ],
   "source": [
    "df_subset.head()"
   ]
  },
  {
   "cell_type": "code",
   "execution_count": 90,
   "id": "05384246",
   "metadata": {},
   "outputs": [
    {
     "name": "stderr",
     "output_type": "stream",
     "text": [
      "C:\\Users\\DELL 5502\\AppData\\Local\\Temp\\ipykernel_21384\\490801483.py:1: SettingWithCopyWarning: \n",
      "A value is trying to be set on a copy of a slice from a DataFrame.\n",
      "Try using .loc[row_indexer,col_indexer] = value instead\n",
      "\n",
      "See the caveats in the documentation: https://pandas.pydata.org/pandas-docs/stable/user_guide/indexing.html#returning-a-view-versus-a-copy\n",
      "  df_subset[\"fare_amount\"]=float('nan')\n"
     ]
    }
   ],
   "source": [
    "df_subset[\"fare_amount\"]=float('nan')"
   ]
  },
  {
   "cell_type": "code",
   "execution_count": 91,
   "id": "f76faebb",
   "metadata": {},
   "outputs": [
    {
     "data": {
      "text/html": [
       "<div>\n",
       "<style scoped>\n",
       "    .dataframe tbody tr th:only-of-type {\n",
       "        vertical-align: middle;\n",
       "    }\n",
       "\n",
       "    .dataframe tbody tr th {\n",
       "        vertical-align: top;\n",
       "    }\n",
       "\n",
       "    .dataframe thead th {\n",
       "        text-align: right;\n",
       "    }\n",
       "</style>\n",
       "<table border=\"1\" class=\"dataframe\">\n",
       "  <thead>\n",
       "    <tr style=\"text-align: right;\">\n",
       "      <th></th>\n",
       "      <th>VendorID</th>\n",
       "      <th>passenger_count</th>\n",
       "      <th>trip_distance</th>\n",
       "      <th>payment_type</th>\n",
       "      <th>fare_amount</th>\n",
       "      <th>extra</th>\n",
       "      <th>mta_tax</th>\n",
       "      <th>tip_amount</th>\n",
       "      <th>tolls_amount</th>\n",
       "      <th>improvement_surcharge</th>\n",
       "      <th>total_amount</th>\n",
       "      <th>congestion_surcharge</th>\n",
       "      <th>Airport_fee</th>\n",
       "      <th>pickup_hour</th>\n",
       "      <th>pickup_dayofweek</th>\n",
       "      <th>cost_per_unit_distance</th>\n",
       "      <th>trip_duration</th>\n",
       "      <th>average_speed</th>\n",
       "    </tr>\n",
       "  </thead>\n",
       "  <tbody>\n",
       "    <tr>\n",
       "      <th>0</th>\n",
       "      <td>1</td>\n",
       "      <td>2.0</td>\n",
       "      <td>0.001724</td>\n",
       "      <td>2</td>\n",
       "      <td>NaN</td>\n",
       "      <td>2.75</td>\n",
       "      <td>0.5</td>\n",
       "      <td>0.00</td>\n",
       "      <td>0.00</td>\n",
       "      <td>1.0</td>\n",
       "      <td>66.05</td>\n",
       "      <td>0.0</td>\n",
       "      <td>1.75</td>\n",
       "      <td>0</td>\n",
       "      <td>2</td>\n",
       "      <td>0.343423</td>\n",
       "      <td>3665.0</td>\n",
       "      <td>0.041888</td>\n",
       "    </tr>\n",
       "    <tr>\n",
       "      <th>1</th>\n",
       "      <td>1</td>\n",
       "      <td>0.0</td>\n",
       "      <td>0.000443</td>\n",
       "      <td>1</td>\n",
       "      <td>NaN</td>\n",
       "      <td>3.50</td>\n",
       "      <td>0.5</td>\n",
       "      <td>5.10</td>\n",
       "      <td>0.00</td>\n",
       "      <td>1.0</td>\n",
       "      <td>30.60</td>\n",
       "      <td>2.5</td>\n",
       "      <td>0.00</td>\n",
       "      <td>0</td>\n",
       "      <td>2</td>\n",
       "      <td>0.343453</td>\n",
       "      <td>1231.0</td>\n",
       "      <td>0.041836</td>\n",
       "    </tr>\n",
       "    <tr>\n",
       "      <th>2</th>\n",
       "      <td>2</td>\n",
       "      <td>4.0</td>\n",
       "      <td>0.002360</td>\n",
       "      <td>1</td>\n",
       "      <td>NaN</td>\n",
       "      <td>0.00</td>\n",
       "      <td>0.5</td>\n",
       "      <td>16.54</td>\n",
       "      <td>6.94</td>\n",
       "      <td>1.0</td>\n",
       "      <td>99.23</td>\n",
       "      <td>2.5</td>\n",
       "      <td>1.75</td>\n",
       "      <td>23</td>\n",
       "      <td>1</td>\n",
       "      <td>0.343405</td>\n",
       "      <td>3358.0</td>\n",
       "      <td>0.041997</td>\n",
       "    </tr>\n",
       "    <tr>\n",
       "      <th>3</th>\n",
       "      <td>2</td>\n",
       "      <td>1.0</td>\n",
       "      <td>0.000048</td>\n",
       "      <td>1</td>\n",
       "      <td>NaN</td>\n",
       "      <td>1.00</td>\n",
       "      <td>0.5</td>\n",
       "      <td>1.88</td>\n",
       "      <td>0.00</td>\n",
       "      <td>1.0</td>\n",
       "      <td>11.28</td>\n",
       "      <td>2.5</td>\n",
       "      <td>0.00</td>\n",
       "      <td>0</td>\n",
       "      <td>2</td>\n",
       "      <td>0.343578</td>\n",
       "      <td>69.0</td>\n",
       "      <td>0.042003</td>\n",
       "    </tr>\n",
       "    <tr>\n",
       "      <th>4</th>\n",
       "      <td>2</td>\n",
       "      <td>1.0</td>\n",
       "      <td>0.000151</td>\n",
       "      <td>1</td>\n",
       "      <td>NaN</td>\n",
       "      <td>1.00</td>\n",
       "      <td>0.5</td>\n",
       "      <td>3.00</td>\n",
       "      <td>0.00</td>\n",
       "      <td>1.0</td>\n",
       "      <td>18.00</td>\n",
       "      <td>2.5</td>\n",
       "      <td>0.00</td>\n",
       "      <td>0</td>\n",
       "      <td>2</td>\n",
       "      <td>0.343510</td>\n",
       "      <td>475.0</td>\n",
       "      <td>0.041817</td>\n",
       "    </tr>\n",
       "  </tbody>\n",
       "</table>\n",
       "</div>"
      ],
      "text/plain": [
       "   VendorID  passenger_count  trip_distance  payment_type  fare_amount  extra  \\\n",
       "0         1              2.0       0.001724             2          NaN   2.75   \n",
       "1         1              0.0       0.000443             1          NaN   3.50   \n",
       "2         2              4.0       0.002360             1          NaN   0.00   \n",
       "3         2              1.0       0.000048             1          NaN   1.00   \n",
       "4         2              1.0       0.000151             1          NaN   1.00   \n",
       "\n",
       "   mta_tax  tip_amount  tolls_amount  improvement_surcharge  total_amount  \\\n",
       "0      0.5        0.00          0.00                    1.0         66.05   \n",
       "1      0.5        5.10          0.00                    1.0         30.60   \n",
       "2      0.5       16.54          6.94                    1.0         99.23   \n",
       "3      0.5        1.88          0.00                    1.0         11.28   \n",
       "4      0.5        3.00          0.00                    1.0         18.00   \n",
       "\n",
       "   congestion_surcharge  Airport_fee  pickup_hour  pickup_dayofweek  \\\n",
       "0                   0.0         1.75            0                 2   \n",
       "1                   2.5         0.00            0                 2   \n",
       "2                   2.5         1.75           23                 1   \n",
       "3                   2.5         0.00            0                 2   \n",
       "4                   2.5         0.00            0                 2   \n",
       "\n",
       "   cost_per_unit_distance  trip_duration  average_speed  \n",
       "0                0.343423         3665.0       0.041888  \n",
       "1                0.343453         1231.0       0.041836  \n",
       "2                0.343405         3358.0       0.041997  \n",
       "3                0.343578           69.0       0.042003  \n",
       "4                0.343510          475.0       0.041817  "
      ]
     },
     "execution_count": 91,
     "metadata": {},
     "output_type": "execute_result"
    }
   ],
   "source": [
    "df_subset.head()"
   ]
  },
  {
   "cell_type": "code",
   "execution_count": 92,
   "id": "fac67e55",
   "metadata": {},
   "outputs": [],
   "source": [
    "loaded_yellowtaxi_model = joblib.load('random_forest_yellowtaxi_model.pkl')"
   ]
  },
  {
   "cell_type": "code",
   "execution_count": 93,
   "id": "f5ca10c8",
   "metadata": {},
   "outputs": [
    {
     "data": {
      "text/plain": [
       "Index(['VendorID', 'passenger_count', 'trip_distance', 'payment_type',\n",
       "       'fare_amount', 'extra', 'mta_tax', 'tip_amount', 'tolls_amount',\n",
       "       'improvement_surcharge', 'total_amount', 'congestion_surcharge',\n",
       "       'Airport_fee', 'pickup_hour', 'pickup_dayofweek',\n",
       "       'cost_per_unit_distance', 'trip_duration', 'average_speed'],\n",
       "      dtype='object')"
      ]
     },
     "execution_count": 93,
     "metadata": {},
     "output_type": "execute_result"
    }
   ],
   "source": [
    "df_subset.columns"
   ]
  },
  {
   "cell_type": "code",
   "execution_count": 94,
   "id": "2d40ecfb",
   "metadata": {},
   "outputs": [
    {
     "data": {
      "text/plain": [
       "Index(['VendorID', 'passenger_count', 'trip_distance', 'payment_type',\n",
       "       'fare_amount', 'extra', 'mta_tax', 'tip_amount', 'tolls_amount',\n",
       "       'improvement_surcharge', 'total_amount', 'congestion_surcharge',\n",
       "       'Airport_fee', 'pickup_hour', 'pickup_dayofweek',\n",
       "       'cost_per_unit_distance', 'trip_duration', 'average_speed'],\n",
       "      dtype='object')"
      ]
     },
     "execution_count": 94,
     "metadata": {},
     "output_type": "execute_result"
    }
   ],
   "source": [
    "df.columns"
   ]
  },
  {
   "cell_type": "code",
   "execution_count": 95,
   "id": "979904e4",
   "metadata": {},
   "outputs": [
    {
     "name": "stdout",
     "output_type": "stream",
     "text": [
      "<class 'pandas.core.frame.DataFrame'>\n",
      "Int64Index: 10000 entries, 0 to 9999\n",
      "Data columns (total 18 columns):\n",
      " #   Column                  Non-Null Count  Dtype  \n",
      "---  ------                  --------------  -----  \n",
      " 0   VendorID                10000 non-null  int32  \n",
      " 1   passenger_count         10000 non-null  float64\n",
      " 2   trip_distance           10000 non-null  float64\n",
      " 3   payment_type            10000 non-null  int64  \n",
      " 4   fare_amount             0 non-null      float64\n",
      " 5   extra                   10000 non-null  float64\n",
      " 6   mta_tax                 10000 non-null  float64\n",
      " 7   tip_amount              10000 non-null  float64\n",
      " 8   tolls_amount            10000 non-null  float64\n",
      " 9   improvement_surcharge   10000 non-null  float64\n",
      " 10  total_amount            10000 non-null  float64\n",
      " 11  congestion_surcharge    10000 non-null  float64\n",
      " 12  Airport_fee             10000 non-null  float64\n",
      " 13  pickup_hour             10000 non-null  int64  \n",
      " 14  pickup_dayofweek        10000 non-null  int64  \n",
      " 15  cost_per_unit_distance  10000 non-null  float64\n",
      " 16  trip_duration           10000 non-null  float64\n",
      " 17  average_speed           10000 non-null  float64\n",
      "dtypes: float64(14), int32(1), int64(3)\n",
      "memory usage: 1.4 MB\n"
     ]
    }
   ],
   "source": [
    "df_subset.info()"
   ]
  },
  {
   "cell_type": "code",
   "execution_count": 96,
   "id": "a219efdf",
   "metadata": {},
   "outputs": [
    {
     "data": {
      "text/plain": [
       "VendorID                      0\n",
       "passenger_count               0\n",
       "trip_distance                 0\n",
       "payment_type                  0\n",
       "fare_amount               10000\n",
       "extra                         0\n",
       "mta_tax                       0\n",
       "tip_amount                    0\n",
       "tolls_amount                  0\n",
       "improvement_surcharge         0\n",
       "total_amount                  0\n",
       "congestion_surcharge          0\n",
       "Airport_fee                   0\n",
       "pickup_hour                   0\n",
       "pickup_dayofweek              0\n",
       "cost_per_unit_distance        0\n",
       "trip_duration                 0\n",
       "average_speed                 0\n",
       "dtype: int64"
      ]
     },
     "execution_count": 96,
     "metadata": {},
     "output_type": "execute_result"
    }
   ],
   "source": [
    "df_subset.isnull().sum()"
   ]
  },
  {
   "cell_type": "code",
   "execution_count": 97,
   "id": "f69a3817",
   "metadata": {},
   "outputs": [
    {
     "name": "stderr",
     "output_type": "stream",
     "text": [
      "C:\\Users\\DELL 5502\\AppData\\Local\\Temp\\ipykernel_21384\\1898944792.py:1: SettingWithCopyWarning: \n",
      "A value is trying to be set on a copy of a slice from a DataFrame\n",
      "\n",
      "See the caveats in the documentation: https://pandas.pydata.org/pandas-docs/stable/user_guide/indexing.html#returning-a-view-versus-a-copy\n",
      "  df_subset.drop(columns=[\"fare_amount\"],inplace=True)\n"
     ]
    }
   ],
   "source": [
    "df_subset.drop(columns=[\"fare_amount\"],inplace=True)"
   ]
  },
  {
   "cell_type": "code",
   "execution_count": 98,
   "id": "7400bedd",
   "metadata": {},
   "outputs": [
    {
     "name": "stdout",
     "output_type": "stream",
     "text": [
      "<class 'pandas.core.frame.DataFrame'>\n",
      "Int64Index: 10000 entries, 0 to 9999\n",
      "Data columns (total 17 columns):\n",
      " #   Column                  Non-Null Count  Dtype  \n",
      "---  ------                  --------------  -----  \n",
      " 0   VendorID                10000 non-null  int32  \n",
      " 1   passenger_count         10000 non-null  float64\n",
      " 2   trip_distance           10000 non-null  float64\n",
      " 3   payment_type            10000 non-null  int64  \n",
      " 4   extra                   10000 non-null  float64\n",
      " 5   mta_tax                 10000 non-null  float64\n",
      " 6   tip_amount              10000 non-null  float64\n",
      " 7   tolls_amount            10000 non-null  float64\n",
      " 8   improvement_surcharge   10000 non-null  float64\n",
      " 9   total_amount            10000 non-null  float64\n",
      " 10  congestion_surcharge    10000 non-null  float64\n",
      " 11  Airport_fee             10000 non-null  float64\n",
      " 12  pickup_hour             10000 non-null  int64  \n",
      " 13  pickup_dayofweek        10000 non-null  int64  \n",
      " 14  cost_per_unit_distance  10000 non-null  float64\n",
      " 15  trip_duration           10000 non-null  float64\n",
      " 16  average_speed           10000 non-null  float64\n",
      "dtypes: float64(13), int32(1), int64(3)\n",
      "memory usage: 1.3 MB\n"
     ]
    }
   ],
   "source": [
    "df_subset.info()"
   ]
  },
  {
   "cell_type": "code",
   "execution_count": 100,
   "id": "a2525636",
   "metadata": {},
   "outputs": [
    {
     "name": "stdout",
     "output_type": "stream",
     "text": [
      "[61.855 20.5   70.    ... 14.2   17.7   14.9  ]\n"
     ]
    }
   ],
   "source": [
    "import joblib\n",
    "\n",
    "# Load the trained model\n",
    "loaded_model = joblib.load('random_forest_yellowtaxi_model.pkl')\n",
    "\n",
    "# Prepare the input features (X) for prediction\n",
    "X_pred = df_subset[['VendorID', 'passenger_count', 'trip_distance', 'payment_type',\n",
    "                    'extra', 'mta_tax', 'tip_amount', 'tolls_amount',\n",
    "                    'improvement_surcharge', 'pickup_hour', 'pickup_dayofweek',\n",
    "                    'cost_per_unit_distance','trip_duration', 'average_speed']]\n",
    "\n",
    "# Predict the fare amount\n",
    "predictions = loaded_model.predict(X_pred)\n",
    "\n",
    "# Print the predictions\n",
    "print(predictions)"
   ]
  },
  {
   "cell_type": "code",
   "execution_count": null,
   "id": "f9650e77",
   "metadata": {},
   "outputs": [],
   "source": []
  }
 ],
 "metadata": {
  "kernelspec": {
   "display_name": "Python 3 (ipykernel)",
   "language": "python",
   "name": "python3"
  },
  "language_info": {
   "codemirror_mode": {
    "name": "ipython",
    "version": 3
   },
   "file_extension": ".py",
   "mimetype": "text/x-python",
   "name": "python",
   "nbconvert_exporter": "python",
   "pygments_lexer": "ipython3",
   "version": "3.11.3"
  }
 },
 "nbformat": 4,
 "nbformat_minor": 5
}
